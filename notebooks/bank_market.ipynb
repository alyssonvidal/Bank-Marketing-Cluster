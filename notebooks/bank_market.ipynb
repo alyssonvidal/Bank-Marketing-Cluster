{
 "cells": [
  {
   "cell_type": "markdown",
   "id": "b2e4ea2b",
   "metadata": {},
   "source": [
    "# Content\n",
    "     \n",
    "**Data Preprocessing**  \n",
    "- Loading Data\n",
    "- Glossary\n",
    "- Dealing with missing Values\n",
    "- Feature Engieenier\n",
    "   \n",
    "**EDA - Exploratory Data Analysis**\n",
    "- Summary Statistic\n",
    "- Histogram\n",
    "- Pearson Correlation Matrix\n",
    "- Review with Pandas Profiling\n",
    "- Insights\n",
    "   \n",
    "**Data Preparation**\n",
    "- Dealing with Outliers - Using Isolation Forest\n",
    "- Normalization\n",
    "- Standardization\n",
    "- Dimensionality Reduction\n",
    " - PCA\n",
    " - UMAP\n",
    " - t-SNE\n",
    "\n",
    "**Machine Learning**\n",
    "- Kmeans\n",
    "- Hieracical Cluster\n",
    "- Gausian Mistured Model"
   ]
  },
  {
   "cell_type": "markdown",
   "id": "847920c2",
   "metadata": {},
   "source": [
    "# Data Preprossesing"
   ]
  },
  {
   "cell_type": "code",
   "execution_count": 47,
   "id": "8921e38d",
   "metadata": {},
   "outputs": [],
   "source": [
    "import numpy as np\n",
    "import pandas as pd\n",
    "from tabulate import tabulate\n",
    "import warnings\n",
    "\n",
    "from sklearn.ensemble import IsolationForest\n",
    "from sklearn.impute import KNNImputer\n",
    "from sklearn.decomposition import PCA\n",
    "from pandas_profiling import ProfileReport\n",
    "\n",
    "from sklearn.cluster import KMeans, DBSCAN, AgglomerativeClustering\n",
    "from sklearn.mixture import GaussianMixture\n",
    "from scipy.cluster import hierarchy\n",
    "\n",
    "from sklearn.metrics import silhouette_score, davies_bouldin_score\n",
    "from yellowbrick.cluster import KElbowVisualizer, SilhouetteVisualizer\n",
    "from sklearn.preprocessing import MinMaxScaler\n",
    "\n",
    "from sklearn.decomposition import PCA\n",
    "from umap.umap_ import UMAP\n",
    "from sklearn.manifold import TSNE\n",
    "\n",
    "from plotly.offline import plot, iplot, init_notebook_mode\n",
    "import plotly as py\n",
    "from plotly import express as px\n",
    "import plotly.graph_objs as go\n",
    "\n",
    "from IPython.display import HTML\n",
    "import seaborn as sns\n",
    "from matplotlib import pyplot as plt\n",
    "%matplotlib inline\n",
    "\n",
    "RANDOM_SEED = 42\n",
    "np.random.seed(RANDOM_SEED)\n",
    "\n",
    "warnings.simplefilter(action='ignore', category=FutureWarning)"
   ]
  },
  {
   "cell_type": "code",
   "execution_count": 48,
   "id": "1242a27a",
   "metadata": {},
   "outputs": [],
   "source": [
    "def jupyter_menu_settings():   \n",
    "    \n",
    "    \"\"\" Best looking changes \"\"\"\n",
    "    \n",
    "    display(HTML(\"\"\"\n",
    "            <style>\n",
    "\n",
    "            h1 {\n",
    "            background-color: #0E2031;\n",
    "            color: white;\n",
    "            padding: 15px 15px;\n",
    "            text-align: center;\n",
    "            font-family: Arial, Helvetica, sans-serif;\n",
    "            border-radius:10px 10px;\n",
    "            }\n",
    "\n",
    "            h2 {\n",
    "            background-color: #153656;\n",
    "            color: white;\n",
    "            padding: 10px 10px;\n",
    "            text-align: center;\n",
    "            font-family: Arial, Helvetica, sans-serif\n",
    "            border-radius:10px 10px;\n",
    "            }\n",
    "\n",
    "            </style>            \n",
    "    \"\"\"))\n",
    "\n",
    "def jupyter_table_settings():\n",
    "    pd.set_option('display.expand_frame_repr', False )\n",
    "    pd.set_option('display.max_columns', 30)\n",
    "    pd.set_option('display.max_rows', 30)"
   ]
  },
  {
   "cell_type": "code",
   "execution_count": 49,
   "id": "d573d94b",
   "metadata": {},
   "outputs": [],
   "source": [
    "rfm_coordinates = {\"Champions\": [3, 5, 0.8, 1],\n",
    "                   \"Loyal Customers\": [3, 5, 0.4, 0.8],\n",
    "                   \"Cannot Lose Them\": [4, 5, 0, 0.4],\n",
    "                   \"At Risk\": [2, 4, 0, 0.4]}"
   ]
  },
  {
   "cell_type": "code",
   "execution_count": 50,
   "id": "74996b9e",
   "metadata": {},
   "outputs": [],
   "source": [
    "def matplotlib_settings():\n",
    "    \"\"\" Optimize general settings, standardize plot sizes, etc. \"\"\"\n",
    "    \n",
    "#     %matplotlib inline\n",
    "#     plt.style.use( 'ggplot' )\n",
    "#     plt.rcParams['figure.figsize'] = [12, 6]\n",
    "#     plt.rcParams['font.size'] = 20"
   ]
  },
  {
   "cell_type": "code",
   "execution_count": 51,
   "id": "1e75bfc9",
   "metadata": {},
   "outputs": [
    {
     "data": {
      "text/html": [
       "\n",
       "            <style>\n",
       "\n",
       "            h1 {\n",
       "            background-color: #0E2031;\n",
       "            color: white;\n",
       "            padding: 15px 15px;\n",
       "            text-align: center;\n",
       "            font-family: Arial, Helvetica, sans-serif;\n",
       "            border-radius:10px 10px;\n",
       "            }\n",
       "\n",
       "            h2 {\n",
       "            background-color: #153656;\n",
       "            color: white;\n",
       "            padding: 10px 10px;\n",
       "            text-align: center;\n",
       "            font-family: Arial, Helvetica, sans-serif\n",
       "            border-radius:10px 10px;\n",
       "            }\n",
       "\n",
       "            </style>            \n",
       "    "
      ],
      "text/plain": [
       "<IPython.core.display.HTML object>"
      ]
     },
     "metadata": {},
     "output_type": "display_data"
    }
   ],
   "source": [
    "jupyter_menu_settings()\n",
    "jupyter_table_settings()"
   ]
  },
  {
   "cell_type": "markdown",
   "id": "a2cee376",
   "metadata": {},
   "source": [
    "## Loading Data"
   ]
  },
  {
   "cell_type": "code",
   "execution_count": 52,
   "id": "1a722452",
   "metadata": {},
   "outputs": [
    {
     "data": {
      "text/plain": [
       "(8950, 18)"
      ]
     },
     "execution_count": 52,
     "metadata": {},
     "output_type": "execute_result"
    }
   ],
   "source": [
    "data_raw = pd.read_csv('../data/CC_GENERAL.csv', encoding='iso-8859-1')\n",
    "data_raw.shape"
   ]
  },
  {
   "cell_type": "code",
   "execution_count": 53,
   "id": "370daa46",
   "metadata": {},
   "outputs": [],
   "source": [
    "data = data_raw.copy()"
   ]
  },
  {
   "cell_type": "code",
   "execution_count": 54,
   "id": "8cb83726",
   "metadata": {},
   "outputs": [
    {
     "name": "stdout",
     "output_type": "stream",
     "text": [
      "<class 'pandas.core.frame.DataFrame'>\n",
      "RangeIndex: 8950 entries, 0 to 8949\n",
      "Data columns (total 18 columns):\n",
      " #   Column                            Non-Null Count  Dtype  \n",
      "---  ------                            --------------  -----  \n",
      " 0   CUST_ID                           8950 non-null   object \n",
      " 1   BALANCE                           8950 non-null   float64\n",
      " 2   BALANCE_FREQUENCY                 8950 non-null   float64\n",
      " 3   PURCHASES                         8950 non-null   float64\n",
      " 4   ONEOFF_PURCHASES                  8950 non-null   float64\n",
      " 5   INSTALLMENTS_PURCHASES            8950 non-null   float64\n",
      " 6   CASH_ADVANCE                      8950 non-null   float64\n",
      " 7   PURCHASES_FREQUENCY               8950 non-null   float64\n",
      " 8   ONEOFF_PURCHASES_FREQUENCY        8950 non-null   float64\n",
      " 9   PURCHASES_INSTALLMENTS_FREQUENCY  8950 non-null   float64\n",
      " 10  CASH_ADVANCE_FREQUENCY            8950 non-null   float64\n",
      " 11  CASH_ADVANCE_TRX                  8950 non-null   int64  \n",
      " 12  PURCHASES_TRX                     8950 non-null   int64  \n",
      " 13  CREDIT_LIMIT                      8949 non-null   float64\n",
      " 14  PAYMENTS                          8950 non-null   float64\n",
      " 15  MINIMUM_PAYMENTS                  8637 non-null   float64\n",
      " 16  PRC_FULL_PAYMENT                  8950 non-null   float64\n",
      " 17  TENURE                            8950 non-null   int64  \n",
      "dtypes: float64(14), int64(3), object(1)\n",
      "memory usage: 1.2+ MB\n"
     ]
    }
   ],
   "source": [
    "data.info()"
   ]
  },
  {
   "cell_type": "code",
   "execution_count": 69,
   "id": "0eb74ea7",
   "metadata": {},
   "outputs": [
    {
     "name": "stdout",
     "output_type": "stream",
     "text": [
      "Columns                           Meaning\n",
      "--------------------------------  --------------------------------------------------------------------------------------\n",
      "CUST_ID                           Unique Identifier of customer\n",
      "BALANCE                           Balance amount left in their account to make purchases\n",
      "BALANCE_FREQUENCY                 How frequently the Balance is updated, score between 0 and 1 (1 = High, 0 = Low)\n",
      "PURCHASES                         Amount of purchases made from account\n",
      "ONEOFF_PURCHASES                  Maximum purchase amount done in one-go\n",
      "INSTALLMENTS_PURCHASES            Amount of purchase done in installment\n",
      "CASH_ADVANCE                      Cash in advance given by the user\n",
      "PURCHASES_FREQUENCY               How frequently the Purchases are being made, score between 0 and 1 (1 = High, 0 = Low)\n",
      "ONEOFF_PURCHASES_FREQUENCY        How frequently purchases are happening in one-go (1 = High, 0 = Low)\n",
      "PURCHASES_INSTALLMENTS_FREQUENCY  How frequently purchases in installments are being done(1 = High, 0 = Low)\n",
      "CASH_ADVANCE_FREQUENCY            How frequently the cash in advance being paid\n",
      "CASH_ADVANCE_TRX                  Number of Transactions made with \"Cash in Advanced\"\n",
      "PURCHASES_TRX                     Number of purchase transactions made\n",
      "CREDIT_LIMIT                      Limit of Credit Card for user\n",
      "PAYMENTS                          Amount of Payment done by user\n",
      "MINIMUM_PAYMENTS                  Minimum amount of payments made by user\n",
      "PRC_FULL_PAYMENT                  Percent of full payment paid by user\n",
      "TENURE                            Tenure of credit card service for user\n"
     ]
    }
   ],
   "source": [
    "glossary_en = [['Columns', 'Meaning'],\n",
    "              ['CUST_ID', 'Unique Identifier of customer'],\n",
    "              ['BALANCE', 'Balance amount left in their account to make purchases'],\n",
    "              ['BALANCE_FREQUENCY', 'How frequently the Balance is updated, score between 0 and 1 (1 = High, 0 = Low)'],\n",
    "              ['PURCHASES', 'Amount of purchases made from account'],\n",
    "              ['ONEOFF_PURCHASES', 'Maximum purchase amount done in one-go'],\n",
    "              ['INSTALLMENTS_PURCHASES', 'Amount of purchase done in installment'],\n",
    "              ['CASH_ADVANCE', 'Cash in advance given by the user'],\n",
    "              ['PURCHASES_FREQUENCY', 'How frequently the Purchases are being made, score between 0 and 1 (1 = High, 0 = Low)'],\n",
    "              ['ONEOFF_PURCHASES_FREQUENCY', 'How frequently purchases are happening in one-go (1 = High, 0 = Low)'],\n",
    "              ['PURCHASES_INSTALLMENTS_FREQUENCY', 'How frequently purchases in installments are being done(1 = High, 0 = Low)'],\n",
    "              ['CASH_ADVANCE_FREQUENCY', 'How frequently the cash in advance being paid'],\n",
    "              ['CASH_ADVANCE_TRX', 'Number of Transactions made with \"Cash in Advanced\"'],\n",
    "              ['PURCHASES_TRX', 'Number of purchase transactions made'],\n",
    "              ['CREDIT_LIMIT', 'Limit of Credit Card for user'],\n",
    "              ['PAYMENTS', 'Amount of Payment done by user'],\n",
    "              ['MINIMUM_PAYMENTS', 'Minimum amount of payments made by user'],\n",
    "              ['PRC_FULL_PAYMENT', 'Percent of full payment paid by user'],\n",
    "              ['TENURE', 'Tenure of credit card service for user']\n",
    "             ]\n",
    "print(tabulate(glossary_en, headers='firstrow', stralign='left', tablefmt='simple'))"
   ]
  },
  {
   "cell_type": "code",
   "execution_count": 70,
   "id": "f6b7429e",
   "metadata": {},
   "outputs": [
    {
     "name": "stdout",
     "output_type": "stream",
     "text": [
      "Colunas                       Significado\n",
      "----------------------------  ---------------------------------------------------------------------------------------------\n",
      "CUST_ID                       Identificador único do cliente\n",
      "SALDO                         Valor do saldo do cartão de crédito deixado na conta para fazer compras\n",
      "FREQUENCIA_SALDO              Frequência com que o saldo é atualizado, pontuação entre 0 e 1 (1 = Alto, 0 = Baixo)\n",
      "COMPRAS                       Valor das compras feitas na conta\n",
      "COMPRAS_ONEOFF                Valor máximo de compra feito de uma só vez\n",
      "COMPRAS_PARCELADAS            Valor da compra parcelada\n",
      "ADIANTAMENTO                  Dinheiro adiantado dado pelo usuário\n",
      "FREQUENCIA_COMPRA             Com que frequência as compras estão sendo feitas, pontuação entre 0 e 1 (1 = alta, 0 = baixa)\n",
      "FREQUENCIA_COMPRAS_ONEOFF     Com que frequência as compras acontecem de uma só vez (1 = Alta, 0 = Baixa)\n",
      "FREQUENCIA_COMPRAs_PARCELADA  Com que frequência as compras parceladas estão sendo feitas (1 = Alta, 0 = Baixa)\n",
      "FREQUENCIA_ADIANTAMENTO       Com que frequência o adiantamento em dinheiro está sendo pago\n",
      "ADIANTAMENTO_TRX              Número de transações feitas com \"Cash in Advanced\"\n",
      "COMPRAS_TRX                   Número de transações de compra feitas\n",
      "LIMITE_CARTAO                 Limite de Cartão de Crédito por usuário\n",
      "PAGAMENTOS                    Valor do pagamento feito pelo usuário\n",
      "PAGAMENTO_MINIMO              Valor mínimo de pagamentos feitos pelo usuário\n",
      "PORCENTAGEM_PAGAMENTO_TOTAL   Porcentagem do pagamento integral pago pelo usuário\n",
      "PRAZO                         Prazo do serviço de cartão de crédito para o usuário\n"
     ]
    }
   ],
   "source": [
    "glossary_pt = [['Colunas', 'Significado'],\n",
    "              ['CUST_ID', 'Identificador único do cliente'],\n",
    "              ['SALDO', 'Valor do saldo do cartão de crédito deixado na conta para fazer compras'],\n",
    "              ['FREQUENCIA_SALDO', 'Frequência com que o saldo é atualizado, pontuação entre 0 e 1 (1 = Alto, 0 = Baixo)'],\n",
    "              ['COMPRAS', 'Valor das compras feitas na conta'],\n",
    "              ['COMPRAS_ONEOFF', 'Valor máximo de compra feito de uma só vez'],\n",
    "              ['COMPRAS_PARCELADAS', 'Valor da compra parcelada'],\n",
    "              ['ADIANTAMENTO', 'Dinheiro adiantado dado pelo usuário'],\n",
    "              ['FREQUENCIA_COMPRA', 'Com que frequência as compras estão sendo feitas, pontuação entre 0 e 1 (1 = alta, 0 = baixa)'],\n",
    "              ['FREQUENCIA_COMPRAS_ONEOFF', 'Com que frequência as compras acontecem de uma só vez (1 = Alta, 0 = Baixa)'],\n",
    "              ['FREQUENCIA_COMPRAs_PARCELADA', 'Com que frequência as compras parceladas estão sendo feitas (1 = Alta, 0 = Baixa)'],\n",
    "              ['FREQUENCIA_ADIANTAMENTO', 'Com que frequência o adiantamento em dinheiro está sendo pago'],\n",
    "              ['ADIANTAMENTO_TRX', 'Número de transações feitas com \"Cash in Advanced\"'],\n",
    "              ['COMPRAS_TRX', 'Número de transações de compra feitas'],\n",
    "              ['LIMITE_CARTAO', 'Limite de Cartão de Crédito por usuário'],\n",
    "              ['PAGAMENTOS', 'Valor do pagamento feito pelo usuário'],\n",
    "              ['PAGAMENTO_MINIMO', 'Valor mínimo de pagamentos feitos pelo usuário'],\n",
    "              ['PORCENTAGEM_PAGAMENTO_TOTAL', 'Porcentagem do pagamento integral pago pelo usuário'],\n",
    "              ['PRAZO', 'Prazo do serviço de cartão de crédito para o usuário']\n",
    "              ]\n",
    "print(tabulate(glossary_pt, headers='firstrow', stralign='left', tablefmt='simple'))"
   ]
  },
  {
   "cell_type": "markdown",
   "id": "0c7b85f0",
   "metadata": {},
   "source": [
    "## Dealing with missing values - Using KNN Inputer"
   ]
  },
  {
   "cell_type": "code",
   "execution_count": 57,
   "id": "1e215dc1",
   "metadata": {},
   "outputs": [
    {
     "data": {
      "text/plain": [
       "CUST_ID                               0\n",
       "BALANCE                               0\n",
       "BALANCE_FREQUENCY                     0\n",
       "PURCHASES                             0\n",
       "ONEOFF_PURCHASES                      0\n",
       "INSTALLMENTS_PURCHASES                0\n",
       "CASH_ADVANCE                          0\n",
       "PURCHASES_FREQUENCY                   0\n",
       "ONEOFF_PURCHASES_FREQUENCY            0\n",
       "PURCHASES_INSTALLMENTS_FREQUENCY      0\n",
       "CASH_ADVANCE_FREQUENCY                0\n",
       "CASH_ADVANCE_TRX                      0\n",
       "PURCHASES_TRX                         0\n",
       "CREDIT_LIMIT                          1\n",
       "PAYMENTS                              0\n",
       "MINIMUM_PAYMENTS                    313\n",
       "PRC_FULL_PAYMENT                      0\n",
       "TENURE                                0\n",
       "dtype: int64"
      ]
     },
     "execution_count": 57,
     "metadata": {},
     "output_type": "execute_result"
    }
   ],
   "source": [
    "data.isna().sum()"
   ]
  },
  {
   "cell_type": "code",
   "execution_count": 58,
   "id": "e41f701a",
   "metadata": {},
   "outputs": [],
   "source": [
    "X_knn = data.drop(['CUST_ID'], axis=1)\n",
    "numerical_features = X_knn.select_dtypes(include = ['int64','float64']).columns.values"
   ]
  },
  {
   "cell_type": "code",
   "execution_count": 59,
   "id": "34ae4c62",
   "metadata": {},
   "outputs": [
    {
     "data": {
      "text/plain": [
       "CUST_ID                                 C19187\n",
       "BALANCE                              19.183215\n",
       "BALANCE_FREQUENCY                          1.0\n",
       "PURCHASES                                300.0\n",
       "ONEOFF_PURCHASES                           0.0\n",
       "INSTALLMENTS_PURCHASES                   300.0\n",
       "CASH_ADVANCE                               0.0\n",
       "PURCHASES_FREQUENCY                        1.0\n",
       "ONEOFF_PURCHASES_FREQUENCY                 0.0\n",
       "PURCHASES_INSTALLMENTS_FREQUENCY      0.833333\n",
       "CASH_ADVANCE_FREQUENCY                     0.0\n",
       "CASH_ADVANCE_TRX                             0\n",
       "PURCHASES_TRX                                6\n",
       "CREDIT_LIMIT                            1000.0\n",
       "PAYMENTS                            275.861322\n",
       "MINIMUM_PAYMENTS                           NaN\n",
       "PRC_FULL_PAYMENT                           0.0\n",
       "TENURE                                       6\n",
       "Name: 8946, dtype: object"
      ]
     },
     "execution_count": 59,
     "metadata": {},
     "output_type": "execute_result"
    }
   ],
   "source": [
    "#Example with NaN row\n",
    "data.iloc[8946]"
   ]
  },
  {
   "cell_type": "code",
   "execution_count": 60,
   "id": "7779f75d",
   "metadata": {},
   "outputs": [],
   "source": [
    "num_imputer = KNNImputer()\n",
    "num_imputer.fit(X_knn[numerical_features])\n",
    "X_knn[numerical_features] = num_imputer.transform(X_knn[numerical_features])"
   ]
  },
  {
   "cell_type": "code",
   "execution_count": 61,
   "id": "804ebce5",
   "metadata": {},
   "outputs": [
    {
     "data": {
      "text/plain": [
       "BALANCE                               19.183215\n",
       "BALANCE_FREQUENCY                      1.000000\n",
       "PURCHASES                            300.000000\n",
       "ONEOFF_PURCHASES                       0.000000\n",
       "INSTALLMENTS_PURCHASES               300.000000\n",
       "CASH_ADVANCE                           0.000000\n",
       "PURCHASES_FREQUENCY                    1.000000\n",
       "ONEOFF_PURCHASES_FREQUENCY             0.000000\n",
       "PURCHASES_INSTALLMENTS_FREQUENCY       0.833333\n",
       "CASH_ADVANCE_FREQUENCY                 0.000000\n",
       "CASH_ADVANCE_TRX                       0.000000\n",
       "PURCHASES_TRX                          6.000000\n",
       "CREDIT_LIMIT                        1000.000000\n",
       "PAYMENTS                             275.861322\n",
       "MINIMUM_PAYMENTS                     156.060050\n",
       "PRC_FULL_PAYMENT                       0.000000\n",
       "TENURE                                 6.000000\n",
       "Name: 8946, dtype: float64"
      ]
     },
     "execution_count": 61,
     "metadata": {},
     "output_type": "execute_result"
    }
   ],
   "source": [
    "# MINIMUM_PAYMENTS for customer C19187 guessing by KNN was 156.06\n",
    "X_knn.loc[8946]"
   ]
  },
  {
   "cell_type": "code",
   "execution_count": 62,
   "id": "12975444",
   "metadata": {},
   "outputs": [
    {
     "data": {
      "text/plain": [
       "(8950, 18)"
      ]
     },
     "execution_count": 62,
     "metadata": {},
     "output_type": "execute_result"
    }
   ],
   "source": [
    "data_new = pd.concat([data[['CUST_ID']], X_knn],axis=1)\n",
    "data_new.shape"
   ]
  },
  {
   "cell_type": "code",
   "execution_count": 63,
   "id": "3a50d1d8",
   "metadata": {},
   "outputs": [
    {
     "data": {
      "text/plain": [
       "0"
      ]
     },
     "execution_count": 63,
     "metadata": {},
     "output_type": "execute_result"
    }
   ],
   "source": [
    "data_new.duplicated().sum()"
   ]
  },
  {
   "cell_type": "markdown",
   "id": "70deda44",
   "metadata": {},
   "source": [
    "## EDA"
   ]
  },
  {
   "cell_type": "code",
   "execution_count": 64,
   "id": "c38f45b0",
   "metadata": {},
   "outputs": [],
   "source": [
    "def display_stats(sumary):   \n",
    "    \n",
    "    sumary=data_new.describe()  \n",
    "    skewness=data_new.skew()\n",
    "    kurtosis=data_new.kurtosis()\n",
    "    aux=sumary.append([skewness, kurtosis], ignore_index=True)\n",
    "    idx=pd.Series(['count','mean','std','min','25%','50%','75%','max','skewness','kurtosis'],name='Summary Statistic')\n",
    "    sumary=pd.concat([aux,idx],axis=1).set_index('Summary Statistic').T\n",
    "    cm = sns.light_palette(\"#A2A2A2\", as_cmap = True)\n",
    "    display(sumary.style.format('{:.2f}').background_gradient(subset=(sumary.index[1:],sumary.columns[:]),cmap=cm))"
   ]
  },
  {
   "cell_type": "code",
   "execution_count": 65,
   "id": "315428d8",
   "metadata": {},
   "outputs": [
    {
     "data": {
      "text/html": [
       "<style type=\"text/css\">\n",
       "#T_af786_row1_col0, #T_af786_row1_col1, #T_af786_row1_col2, #T_af786_row1_col3, #T_af786_row1_col4, #T_af786_row1_col5, #T_af786_row1_col6, #T_af786_row1_col7, #T_af786_row2_col0, #T_af786_row2_col3, #T_af786_row3_col0, #T_af786_row3_col3, #T_af786_row3_col4, #T_af786_row4_col0, #T_af786_row4_col3, #T_af786_row4_col4, #T_af786_row5_col0, #T_af786_row5_col3, #T_af786_row5_col4, #T_af786_row5_col5, #T_af786_row6_col0, #T_af786_row6_col1, #T_af786_row6_col2, #T_af786_row6_col3, #T_af786_row6_col4, #T_af786_row6_col5, #T_af786_row6_col6, #T_af786_row6_col7, #T_af786_row6_col9, #T_af786_row7_col0, #T_af786_row7_col1, #T_af786_row7_col2, #T_af786_row7_col3, #T_af786_row7_col4, #T_af786_row7_col5, #T_af786_row7_col6, #T_af786_row7_col7, #T_af786_row8_col0, #T_af786_row8_col1, #T_af786_row8_col2, #T_af786_row8_col3, #T_af786_row8_col4, #T_af786_row8_col5, #T_af786_row8_col6, #T_af786_row8_col7, #T_af786_row8_col9, #T_af786_row9_col0, #T_af786_row9_col1, #T_af786_row9_col2, #T_af786_row9_col3, #T_af786_row9_col4, #T_af786_row9_col5, #T_af786_row9_col6, #T_af786_row9_col7, #T_af786_row10_col0, #T_af786_row10_col1, #T_af786_row10_col2, #T_af786_row10_col3, #T_af786_row10_col4, #T_af786_row10_col5, #T_af786_row10_col6, #T_af786_row10_col7, #T_af786_row11_col0, #T_af786_row11_col1, #T_af786_row11_col3, #T_af786_row11_col4, #T_af786_row11_col5, #T_af786_row11_col6, #T_af786_row12_col0, #T_af786_row13_col0, #T_af786_row13_col3, #T_af786_row14_col0, #T_af786_row14_col3, #T_af786_row15_col0, #T_af786_row15_col1, #T_af786_row15_col2, #T_af786_row15_col3, #T_af786_row15_col4, #T_af786_row15_col5, #T_af786_row15_col6, #T_af786_row15_col7, #T_af786_row16_col0, #T_af786_row16_col1, #T_af786_row16_col2, #T_af786_row16_col6, #T_af786_row16_col7, #T_af786_row16_col8 {\n",
       "  background-color: #f1f1f1;\n",
       "  color: #000000;\n",
       "}\n",
       "#T_af786_row1_col8 {\n",
       "  background-color: #ececec;\n",
       "  color: #000000;\n",
       "}\n",
       "#T_af786_row1_col9, #T_af786_row2_col4, #T_af786_row9_col9 {\n",
       "  background-color: #efefef;\n",
       "  color: #000000;\n",
       "}\n",
       "#T_af786_row2_col1, #T_af786_row10_col9 {\n",
       "  background-color: #dfdfdf;\n",
       "  color: #000000;\n",
       "}\n",
       "#T_af786_row2_col2 {\n",
       "  background-color: #c2c2c2;\n",
       "  color: #000000;\n",
       "}\n",
       "#T_af786_row2_col5, #T_af786_row11_col9, #T_af786_row14_col6, #T_af786_row16_col3 {\n",
       "  background-color: #e7e7e7;\n",
       "  color: #000000;\n",
       "}\n",
       "#T_af786_row2_col6, #T_af786_row5_col6 {\n",
       "  background-color: #e3e3e3;\n",
       "  color: #000000;\n",
       "}\n",
       "#T_af786_row2_col7, #T_af786_row14_col2 {\n",
       "  background-color: #bebebe;\n",
       "  color: #000000;\n",
       "}\n",
       "#T_af786_row2_col8 {\n",
       "  background-color: #bcbcbc;\n",
       "  color: #000000;\n",
       "}\n",
       "#T_af786_row2_col9, #T_af786_row12_col7, #T_af786_row13_col1 {\n",
       "  background-color: #d2d2d2;\n",
       "  color: #000000;\n",
       "}\n",
       "#T_af786_row3_col1 {\n",
       "  background-color: #e6e6e6;\n",
       "  color: #000000;\n",
       "}\n",
       "#T_af786_row3_col2, #T_af786_row11_col8 {\n",
       "  background-color: #cdcdcd;\n",
       "  color: #000000;\n",
       "}\n",
       "#T_af786_row3_col5, #T_af786_row7_col9, #T_af786_row11_col2, #T_af786_row11_col7, #T_af786_row12_col9, #T_af786_row15_col9, #T_af786_row16_col4, #T_af786_row16_col5 {\n",
       "  background-color: #f0f0f0;\n",
       "  color: #000000;\n",
       "}\n",
       "#T_af786_row3_col6 {\n",
       "  background-color: #eaeaea;\n",
       "  color: #000000;\n",
       "}\n",
       "#T_af786_row3_col7, #T_af786_row13_col8 {\n",
       "  background-color: #c7c7c7;\n",
       "  color: #000000;\n",
       "}\n",
       "#T_af786_row3_col8 {\n",
       "  background-color: #b3b3b3;\n",
       "  color: #000000;\n",
       "}\n",
       "#T_af786_row3_col9, #T_af786_row5_col2 {\n",
       "  background-color: #c3c3c3;\n",
       "  color: #000000;\n",
       "}\n",
       "#T_af786_row4_col1 {\n",
       "  background-color: #e9eae9;\n",
       "  color: #000000;\n",
       "}\n",
       "#T_af786_row4_col2 {\n",
       "  background-color: #dddddd;\n",
       "  color: #000000;\n",
       "}\n",
       "#T_af786_row4_col5, #T_af786_row16_col9 {\n",
       "  background-color: #eeeeee;\n",
       "  color: #000000;\n",
       "}\n",
       "#T_af786_row4_col6 {\n",
       "  background-color: #ebebeb;\n",
       "  color: #000000;\n",
       "}\n",
       "#T_af786_row4_col7, #T_af786_row15_col8 {\n",
       "  background-color: #d9d9d9;\n",
       "  color: #000000;\n",
       "}\n",
       "#T_af786_row4_col8, #T_af786_row5_col7 {\n",
       "  background-color: #c0c0c0;\n",
       "  color: #000000;\n",
       "}\n",
       "#T_af786_row4_col9 {\n",
       "  background-color: #d6d6d6;\n",
       "  color: #000000;\n",
       "}\n",
       "#T_af786_row5_col1, #T_af786_row8_col8 {\n",
       "  background-color: #e0e0e0;\n",
       "  color: #000000;\n",
       "}\n",
       "#T_af786_row5_col8 {\n",
       "  background-color: #cacaca;\n",
       "  color: #000000;\n",
       "}\n",
       "#T_af786_row5_col9, #T_af786_row6_col8, #T_af786_row14_col1 {\n",
       "  background-color: #e2e2e2;\n",
       "  color: #000000;\n",
       "}\n",
       "#T_af786_row7_col8 {\n",
       "  background-color: #dbdbdb;\n",
       "  color: #000000;\n",
       "}\n",
       "#T_af786_row9_col8, #T_af786_row13_col5, #T_af786_row13_col6 {\n",
       "  background-color: #dadada;\n",
       "  color: #000000;\n",
       "}\n",
       "#T_af786_row10_col8 {\n",
       "  background-color: #c8c8c8;\n",
       "  color: #000000;\n",
       "}\n",
       "#T_af786_row12_col1, #T_af786_row12_col2, #T_af786_row12_col3, #T_af786_row12_col4, #T_af786_row12_col5, #T_af786_row12_col6, #T_af786_row14_col7, #T_af786_row14_col8, #T_af786_row14_col9 {\n",
       "  background-color: #a2a2a2;\n",
       "  color: #f1f1f1;\n",
       "}\n",
       "#T_af786_row12_col8 {\n",
       "  background-color: #dcdcdc;\n",
       "  color: #000000;\n",
       "}\n",
       "#T_af786_row13_col2 {\n",
       "  background-color: #b2b2b2;\n",
       "  color: #000000;\n",
       "}\n",
       "#T_af786_row13_col4 {\n",
       "  background-color: #dedede;\n",
       "  color: #000000;\n",
       "}\n",
       "#T_af786_row13_col7 {\n",
       "  background-color: #bdbdbc;\n",
       "  color: #000000;\n",
       "}\n",
       "#T_af786_row13_col9 {\n",
       "  background-color: #e1e1e1;\n",
       "  color: #000000;\n",
       "}\n",
       "#T_af786_row14_col4, #T_af786_row14_col5 {\n",
       "  background-color: #e9e9e9;\n",
       "  color: #000000;\n",
       "}\n",
       "</style>\n",
       "<table id=\"T_af786_\">\n",
       "  <thead>\n",
       "    <tr>\n",
       "      <th class=\"index_name level0\" >Summary Statistic</th>\n",
       "      <th class=\"col_heading level0 col0\" >count</th>\n",
       "      <th class=\"col_heading level0 col1\" >mean</th>\n",
       "      <th class=\"col_heading level0 col2\" >std</th>\n",
       "      <th class=\"col_heading level0 col3\" >min</th>\n",
       "      <th class=\"col_heading level0 col4\" >25%</th>\n",
       "      <th class=\"col_heading level0 col5\" >50%</th>\n",
       "      <th class=\"col_heading level0 col6\" >75%</th>\n",
       "      <th class=\"col_heading level0 col7\" >max</th>\n",
       "      <th class=\"col_heading level0 col8\" >skewness</th>\n",
       "      <th class=\"col_heading level0 col9\" >kurtosis</th>\n",
       "    </tr>\n",
       "  </thead>\n",
       "  <tbody>\n",
       "    <tr>\n",
       "      <th id=\"T_af786_level0_row0\" class=\"row_heading level0 row0\" >BALANCE</th>\n",
       "      <td id=\"T_af786_row0_col0\" class=\"data row0 col0\" >8950.00</td>\n",
       "      <td id=\"T_af786_row0_col1\" class=\"data row0 col1\" >1564.47</td>\n",
       "      <td id=\"T_af786_row0_col2\" class=\"data row0 col2\" >2081.53</td>\n",
       "      <td id=\"T_af786_row0_col3\" class=\"data row0 col3\" >0.00</td>\n",
       "      <td id=\"T_af786_row0_col4\" class=\"data row0 col4\" >128.28</td>\n",
       "      <td id=\"T_af786_row0_col5\" class=\"data row0 col5\" >873.39</td>\n",
       "      <td id=\"T_af786_row0_col6\" class=\"data row0 col6\" >2054.14</td>\n",
       "      <td id=\"T_af786_row0_col7\" class=\"data row0 col7\" >19043.14</td>\n",
       "      <td id=\"T_af786_row0_col8\" class=\"data row0 col8\" >2.39</td>\n",
       "      <td id=\"T_af786_row0_col9\" class=\"data row0 col9\" >7.67</td>\n",
       "    </tr>\n",
       "    <tr>\n",
       "      <th id=\"T_af786_level0_row1\" class=\"row_heading level0 row1\" >BALANCE_FREQUENCY</th>\n",
       "      <td id=\"T_af786_row1_col0\" class=\"data row1 col0\" >8950.00</td>\n",
       "      <td id=\"T_af786_row1_col1\" class=\"data row1 col1\" >0.88</td>\n",
       "      <td id=\"T_af786_row1_col2\" class=\"data row1 col2\" >0.24</td>\n",
       "      <td id=\"T_af786_row1_col3\" class=\"data row1 col3\" >0.00</td>\n",
       "      <td id=\"T_af786_row1_col4\" class=\"data row1 col4\" >0.89</td>\n",
       "      <td id=\"T_af786_row1_col5\" class=\"data row1 col5\" >1.00</td>\n",
       "      <td id=\"T_af786_row1_col6\" class=\"data row1 col6\" >1.00</td>\n",
       "      <td id=\"T_af786_row1_col7\" class=\"data row1 col7\" >1.00</td>\n",
       "      <td id=\"T_af786_row1_col8\" class=\"data row1 col8\" >-2.02</td>\n",
       "      <td id=\"T_af786_row1_col9\" class=\"data row1 col9\" >3.09</td>\n",
       "    </tr>\n",
       "    <tr>\n",
       "      <th id=\"T_af786_level0_row2\" class=\"row_heading level0 row2\" >PURCHASES</th>\n",
       "      <td id=\"T_af786_row2_col0\" class=\"data row2 col0\" >8950.00</td>\n",
       "      <td id=\"T_af786_row2_col1\" class=\"data row2 col1\" >1003.20</td>\n",
       "      <td id=\"T_af786_row2_col2\" class=\"data row2 col2\" >2136.63</td>\n",
       "      <td id=\"T_af786_row2_col3\" class=\"data row2 col3\" >0.00</td>\n",
       "      <td id=\"T_af786_row2_col4\" class=\"data row2 col4\" >39.63</td>\n",
       "      <td id=\"T_af786_row2_col5\" class=\"data row2 col5\" >361.28</td>\n",
       "      <td id=\"T_af786_row2_col6\" class=\"data row2 col6\" >1110.13</td>\n",
       "      <td id=\"T_af786_row2_col7\" class=\"data row2 col7\" >49039.57</td>\n",
       "      <td id=\"T_af786_row2_col8\" class=\"data row2 col8\" >8.14</td>\n",
       "      <td id=\"T_af786_row2_col9\" class=\"data row2 col9\" >111.39</td>\n",
       "    </tr>\n",
       "    <tr>\n",
       "      <th id=\"T_af786_level0_row3\" class=\"row_heading level0 row3\" >ONEOFF_PURCHASES</th>\n",
       "      <td id=\"T_af786_row3_col0\" class=\"data row3 col0\" >8950.00</td>\n",
       "      <td id=\"T_af786_row3_col1\" class=\"data row3 col1\" >592.44</td>\n",
       "      <td id=\"T_af786_row3_col2\" class=\"data row3 col2\" >1659.89</td>\n",
       "      <td id=\"T_af786_row3_col3\" class=\"data row3 col3\" >0.00</td>\n",
       "      <td id=\"T_af786_row3_col4\" class=\"data row3 col4\" >0.00</td>\n",
       "      <td id=\"T_af786_row3_col5\" class=\"data row3 col5\" >38.00</td>\n",
       "      <td id=\"T_af786_row3_col6\" class=\"data row3 col6\" >577.40</td>\n",
       "      <td id=\"T_af786_row3_col7\" class=\"data row3 col7\" >40761.25</td>\n",
       "      <td id=\"T_af786_row3_col8\" class=\"data row3 col8\" >10.05</td>\n",
       "      <td id=\"T_af786_row3_col9\" class=\"data row3 col9\" >164.19</td>\n",
       "    </tr>\n",
       "    <tr>\n",
       "      <th id=\"T_af786_level0_row4\" class=\"row_heading level0 row4\" >INSTALLMENTS_PURCHASES</th>\n",
       "      <td id=\"T_af786_row4_col0\" class=\"data row4 col0\" >8950.00</td>\n",
       "      <td id=\"T_af786_row4_col1\" class=\"data row4 col1\" >411.07</td>\n",
       "      <td id=\"T_af786_row4_col2\" class=\"data row4 col2\" >904.34</td>\n",
       "      <td id=\"T_af786_row4_col3\" class=\"data row4 col3\" >0.00</td>\n",
       "      <td id=\"T_af786_row4_col4\" class=\"data row4 col4\" >0.00</td>\n",
       "      <td id=\"T_af786_row4_col5\" class=\"data row4 col5\" >89.00</td>\n",
       "      <td id=\"T_af786_row4_col6\" class=\"data row4 col6\" >468.64</td>\n",
       "      <td id=\"T_af786_row4_col7\" class=\"data row4 col7\" >22500.00</td>\n",
       "      <td id=\"T_af786_row4_col8\" class=\"data row4 col8\" >7.30</td>\n",
       "      <td id=\"T_af786_row4_col9\" class=\"data row4 col9\" >96.58</td>\n",
       "    </tr>\n",
       "    <tr>\n",
       "      <th id=\"T_af786_level0_row5\" class=\"row_heading level0 row5\" >CASH_ADVANCE</th>\n",
       "      <td id=\"T_af786_row5_col0\" class=\"data row5 col0\" >8950.00</td>\n",
       "      <td id=\"T_af786_row5_col1\" class=\"data row5 col1\" >978.87</td>\n",
       "      <td id=\"T_af786_row5_col2\" class=\"data row5 col2\" >2097.16</td>\n",
       "      <td id=\"T_af786_row5_col3\" class=\"data row5 col3\" >0.00</td>\n",
       "      <td id=\"T_af786_row5_col4\" class=\"data row5 col4\" >0.00</td>\n",
       "      <td id=\"T_af786_row5_col5\" class=\"data row5 col5\" >0.00</td>\n",
       "      <td id=\"T_af786_row5_col6\" class=\"data row5 col6\" >1113.82</td>\n",
       "      <td id=\"T_af786_row5_col7\" class=\"data row5 col7\" >47137.21</td>\n",
       "      <td id=\"T_af786_row5_col8\" class=\"data row5 col8\" >5.17</td>\n",
       "      <td id=\"T_af786_row5_col9\" class=\"data row5 col9\" >52.90</td>\n",
       "    </tr>\n",
       "    <tr>\n",
       "      <th id=\"T_af786_level0_row6\" class=\"row_heading level0 row6\" >PURCHASES_FREQUENCY</th>\n",
       "      <td id=\"T_af786_row6_col0\" class=\"data row6 col0\" >8950.00</td>\n",
       "      <td id=\"T_af786_row6_col1\" class=\"data row6 col1\" >0.49</td>\n",
       "      <td id=\"T_af786_row6_col2\" class=\"data row6 col2\" >0.40</td>\n",
       "      <td id=\"T_af786_row6_col3\" class=\"data row6 col3\" >0.00</td>\n",
       "      <td id=\"T_af786_row6_col4\" class=\"data row6 col4\" >0.08</td>\n",
       "      <td id=\"T_af786_row6_col5\" class=\"data row6 col5\" >0.50</td>\n",
       "      <td id=\"T_af786_row6_col6\" class=\"data row6 col6\" >0.92</td>\n",
       "      <td id=\"T_af786_row6_col7\" class=\"data row6 col7\" >1.00</td>\n",
       "      <td id=\"T_af786_row6_col8\" class=\"data row6 col8\" >0.06</td>\n",
       "      <td id=\"T_af786_row6_col9\" class=\"data row6 col9\" >-1.64</td>\n",
       "    </tr>\n",
       "    <tr>\n",
       "      <th id=\"T_af786_level0_row7\" class=\"row_heading level0 row7\" >ONEOFF_PURCHASES_FREQUENCY</th>\n",
       "      <td id=\"T_af786_row7_col0\" class=\"data row7 col0\" >8950.00</td>\n",
       "      <td id=\"T_af786_row7_col1\" class=\"data row7 col1\" >0.20</td>\n",
       "      <td id=\"T_af786_row7_col2\" class=\"data row7 col2\" >0.30</td>\n",
       "      <td id=\"T_af786_row7_col3\" class=\"data row7 col3\" >0.00</td>\n",
       "      <td id=\"T_af786_row7_col4\" class=\"data row7 col4\" >0.00</td>\n",
       "      <td id=\"T_af786_row7_col5\" class=\"data row7 col5\" >0.08</td>\n",
       "      <td id=\"T_af786_row7_col6\" class=\"data row7 col6\" >0.30</td>\n",
       "      <td id=\"T_af786_row7_col7\" class=\"data row7 col7\" >1.00</td>\n",
       "      <td id=\"T_af786_row7_col8\" class=\"data row7 col8\" >1.54</td>\n",
       "      <td id=\"T_af786_row7_col9\" class=\"data row7 col9\" >1.16</td>\n",
       "    </tr>\n",
       "    <tr>\n",
       "      <th id=\"T_af786_level0_row8\" class=\"row_heading level0 row8\" >PURCHASES_INSTALLMENTS_FREQUENCY</th>\n",
       "      <td id=\"T_af786_row8_col0\" class=\"data row8 col0\" >8950.00</td>\n",
       "      <td id=\"T_af786_row8_col1\" class=\"data row8 col1\" >0.36</td>\n",
       "      <td id=\"T_af786_row8_col2\" class=\"data row8 col2\" >0.40</td>\n",
       "      <td id=\"T_af786_row8_col3\" class=\"data row8 col3\" >0.00</td>\n",
       "      <td id=\"T_af786_row8_col4\" class=\"data row8 col4\" >0.00</td>\n",
       "      <td id=\"T_af786_row8_col5\" class=\"data row8 col5\" >0.17</td>\n",
       "      <td id=\"T_af786_row8_col6\" class=\"data row8 col6\" >0.75</td>\n",
       "      <td id=\"T_af786_row8_col7\" class=\"data row8 col7\" >1.00</td>\n",
       "      <td id=\"T_af786_row8_col8\" class=\"data row8 col8\" >0.51</td>\n",
       "      <td id=\"T_af786_row8_col9\" class=\"data row8 col9\" >-1.40</td>\n",
       "    </tr>\n",
       "    <tr>\n",
       "      <th id=\"T_af786_level0_row9\" class=\"row_heading level0 row9\" >CASH_ADVANCE_FREQUENCY</th>\n",
       "      <td id=\"T_af786_row9_col0\" class=\"data row9 col0\" >8950.00</td>\n",
       "      <td id=\"T_af786_row9_col1\" class=\"data row9 col1\" >0.14</td>\n",
       "      <td id=\"T_af786_row9_col2\" class=\"data row9 col2\" >0.20</td>\n",
       "      <td id=\"T_af786_row9_col3\" class=\"data row9 col3\" >0.00</td>\n",
       "      <td id=\"T_af786_row9_col4\" class=\"data row9 col4\" >0.00</td>\n",
       "      <td id=\"T_af786_row9_col5\" class=\"data row9 col5\" >0.00</td>\n",
       "      <td id=\"T_af786_row9_col6\" class=\"data row9 col6\" >0.22</td>\n",
       "      <td id=\"T_af786_row9_col7\" class=\"data row9 col7\" >1.50</td>\n",
       "      <td id=\"T_af786_row9_col8\" class=\"data row9 col8\" >1.83</td>\n",
       "      <td id=\"T_af786_row9_col9\" class=\"data row9 col9\" >3.33</td>\n",
       "    </tr>\n",
       "    <tr>\n",
       "      <th id=\"T_af786_level0_row10\" class=\"row_heading level0 row10\" >CASH_ADVANCE_TRX</th>\n",
       "      <td id=\"T_af786_row10_col0\" class=\"data row10 col0\" >8950.00</td>\n",
       "      <td id=\"T_af786_row10_col1\" class=\"data row10 col1\" >3.25</td>\n",
       "      <td id=\"T_af786_row10_col2\" class=\"data row10 col2\" >6.82</td>\n",
       "      <td id=\"T_af786_row10_col3\" class=\"data row10 col3\" >0.00</td>\n",
       "      <td id=\"T_af786_row10_col4\" class=\"data row10 col4\" >0.00</td>\n",
       "      <td id=\"T_af786_row10_col5\" class=\"data row10 col5\" >0.00</td>\n",
       "      <td id=\"T_af786_row10_col6\" class=\"data row10 col6\" >4.00</td>\n",
       "      <td id=\"T_af786_row10_col7\" class=\"data row10 col7\" >123.00</td>\n",
       "      <td id=\"T_af786_row10_col8\" class=\"data row10 col8\" >5.72</td>\n",
       "      <td id=\"T_af786_row10_col9\" class=\"data row10 col9\" >61.65</td>\n",
       "    </tr>\n",
       "    <tr>\n",
       "      <th id=\"T_af786_level0_row11\" class=\"row_heading level0 row11\" >PURCHASES_TRX</th>\n",
       "      <td id=\"T_af786_row11_col0\" class=\"data row11 col0\" >8950.00</td>\n",
       "      <td id=\"T_af786_row11_col1\" class=\"data row11 col1\" >14.71</td>\n",
       "      <td id=\"T_af786_row11_col2\" class=\"data row11 col2\" >24.86</td>\n",
       "      <td id=\"T_af786_row11_col3\" class=\"data row11 col3\" >0.00</td>\n",
       "      <td id=\"T_af786_row11_col4\" class=\"data row11 col4\" >1.00</td>\n",
       "      <td id=\"T_af786_row11_col5\" class=\"data row11 col5\" >7.00</td>\n",
       "      <td id=\"T_af786_row11_col6\" class=\"data row11 col6\" >17.00</td>\n",
       "      <td id=\"T_af786_row11_col7\" class=\"data row11 col7\" >358.00</td>\n",
       "      <td id=\"T_af786_row11_col8\" class=\"data row11 col8\" >4.63</td>\n",
       "      <td id=\"T_af786_row11_col9\" class=\"data row11 col9\" >34.79</td>\n",
       "    </tr>\n",
       "    <tr>\n",
       "      <th id=\"T_af786_level0_row12\" class=\"row_heading level0 row12\" >CREDIT_LIMIT</th>\n",
       "      <td id=\"T_af786_row12_col0\" class=\"data row12 col0\" >8950.00</td>\n",
       "      <td id=\"T_af786_row12_col1\" class=\"data row12 col1\" >4494.18</td>\n",
       "      <td id=\"T_af786_row12_col2\" class=\"data row12 col2\" >3638.70</td>\n",
       "      <td id=\"T_af786_row12_col3\" class=\"data row12 col3\" >50.00</td>\n",
       "      <td id=\"T_af786_row12_col4\" class=\"data row12 col4\" >1600.00</td>\n",
       "      <td id=\"T_af786_row12_col5\" class=\"data row12 col5\" >3000.00</td>\n",
       "      <td id=\"T_af786_row12_col6\" class=\"data row12 col6\" >6500.00</td>\n",
       "      <td id=\"T_af786_row12_col7\" class=\"data row12 col7\" >30000.00</td>\n",
       "      <td id=\"T_af786_row12_col8\" class=\"data row12 col8\" >1.52</td>\n",
       "      <td id=\"T_af786_row12_col9\" class=\"data row12 col9\" >2.84</td>\n",
       "    </tr>\n",
       "    <tr>\n",
       "      <th id=\"T_af786_level0_row13\" class=\"row_heading level0 row13\" >PAYMENTS</th>\n",
       "      <td id=\"T_af786_row13_col0\" class=\"data row13 col0\" >8950.00</td>\n",
       "      <td id=\"T_af786_row13_col1\" class=\"data row13 col1\" >1733.14</td>\n",
       "      <td id=\"T_af786_row13_col2\" class=\"data row13 col2\" >2895.06</td>\n",
       "      <td id=\"T_af786_row13_col3\" class=\"data row13 col3\" >0.00</td>\n",
       "      <td id=\"T_af786_row13_col4\" class=\"data row13 col4\" >383.28</td>\n",
       "      <td id=\"T_af786_row13_col5\" class=\"data row13 col5\" >856.90</td>\n",
       "      <td id=\"T_af786_row13_col6\" class=\"data row13 col6\" >1901.13</td>\n",
       "      <td id=\"T_af786_row13_col7\" class=\"data row13 col7\" >50721.48</td>\n",
       "      <td id=\"T_af786_row13_col8\" class=\"data row13 col8\" >5.91</td>\n",
       "      <td id=\"T_af786_row13_col9\" class=\"data row13 col9\" >54.77</td>\n",
       "    </tr>\n",
       "    <tr>\n",
       "      <th id=\"T_af786_level0_row14\" class=\"row_heading level0 row14\" >MINIMUM_PAYMENTS</th>\n",
       "      <td id=\"T_af786_row14_col0\" class=\"data row14 col0\" >8950.00</td>\n",
       "      <td id=\"T_af786_row14_col1\" class=\"data row14 col1\" >852.72</td>\n",
       "      <td id=\"T_af786_row14_col2\" class=\"data row14 col2\" >2347.65</td>\n",
       "      <td id=\"T_af786_row14_col3\" class=\"data row14 col3\" >0.02</td>\n",
       "      <td id=\"T_af786_row14_col4\" class=\"data row14 col4\" >166.31</td>\n",
       "      <td id=\"T_af786_row14_col5\" class=\"data row14 col5\" >300.96</td>\n",
       "      <td id=\"T_af786_row14_col6\" class=\"data row14 col6\" >804.41</td>\n",
       "      <td id=\"T_af786_row14_col7\" class=\"data row14 col7\" >76406.21</td>\n",
       "      <td id=\"T_af786_row14_col8\" class=\"data row14 col8\" >13.63</td>\n",
       "      <td id=\"T_af786_row14_col9\" class=\"data row14 col9\" >286.32</td>\n",
       "    </tr>\n",
       "    <tr>\n",
       "      <th id=\"T_af786_level0_row15\" class=\"row_heading level0 row15\" >PRC_FULL_PAYMENT</th>\n",
       "      <td id=\"T_af786_row15_col0\" class=\"data row15 col0\" >8950.00</td>\n",
       "      <td id=\"T_af786_row15_col1\" class=\"data row15 col1\" >0.15</td>\n",
       "      <td id=\"T_af786_row15_col2\" class=\"data row15 col2\" >0.29</td>\n",
       "      <td id=\"T_af786_row15_col3\" class=\"data row15 col3\" >0.00</td>\n",
       "      <td id=\"T_af786_row15_col4\" class=\"data row15 col4\" >0.00</td>\n",
       "      <td id=\"T_af786_row15_col5\" class=\"data row15 col5\" >0.00</td>\n",
       "      <td id=\"T_af786_row15_col6\" class=\"data row15 col6\" >0.14</td>\n",
       "      <td id=\"T_af786_row15_col7\" class=\"data row15 col7\" >1.00</td>\n",
       "      <td id=\"T_af786_row15_col8\" class=\"data row15 col8\" >1.94</td>\n",
       "      <td id=\"T_af786_row15_col9\" class=\"data row15 col9\" >2.43</td>\n",
       "    </tr>\n",
       "    <tr>\n",
       "      <th id=\"T_af786_level0_row16\" class=\"row_heading level0 row16\" >TENURE</th>\n",
       "      <td id=\"T_af786_row16_col0\" class=\"data row16 col0\" >8950.00</td>\n",
       "      <td id=\"T_af786_row16_col1\" class=\"data row16 col1\" >11.52</td>\n",
       "      <td id=\"T_af786_row16_col2\" class=\"data row16 col2\" >1.34</td>\n",
       "      <td id=\"T_af786_row16_col3\" class=\"data row16 col3\" >6.00</td>\n",
       "      <td id=\"T_af786_row16_col4\" class=\"data row16 col4\" >12.00</td>\n",
       "      <td id=\"T_af786_row16_col5\" class=\"data row16 col5\" >12.00</td>\n",
       "      <td id=\"T_af786_row16_col6\" class=\"data row16 col6\" >12.00</td>\n",
       "      <td id=\"T_af786_row16_col7\" class=\"data row16 col7\" >12.00</td>\n",
       "      <td id=\"T_af786_row16_col8\" class=\"data row16 col8\" >-2.94</td>\n",
       "      <td id=\"T_af786_row16_col9\" class=\"data row16 col9\" >7.69</td>\n",
       "    </tr>\n",
       "  </tbody>\n",
       "</table>\n"
      ],
      "text/plain": [
       "<pandas.io.formats.style.Styler at 0x20cbe5816d0>"
      ]
     },
     "metadata": {},
     "output_type": "display_data"
    }
   ],
   "source": [
    "display_stats(data_new)"
   ]
  },
  {
   "cell_type": "code",
   "execution_count": 66,
   "id": "15148ed6",
   "metadata": {},
   "outputs": [
    {
     "data": {
      "image/png": "[encoded data removed]",
      "text/plain": [
       "<Figure size 1296x1080 with 20 Axes>"
      ]
     },
     "metadata": {
      "needs_background": "light"
     },
     "output_type": "display_data"
    }
   ],
   "source": [
    "data_new[numerical_features].hist(figsize=(18,15), bins='auto');"
   ]
  },
  {
   "cell_type": "code",
   "execution_count": 67,
   "id": "a47140c7",
   "metadata": {},
   "outputs": [
    {
     "data": {
      "image/png": "[encoded data removed]",
      "text/plain": [
       "<Figure size 1152x864 with 2 Axes>"
      ]
     },
     "metadata": {
      "needs_background": "light"
     },
     "output_type": "display_data"
    }
   ],
   "source": [
    "mask = np.zeros_like(data_new.corr(), dtype=bool) \n",
    "mask[np.triu_indices_from(mask)] = True \n",
    "\n",
    "f, ax = plt.subplots(figsize=(16, 12))\n",
    "\n",
    "plt.title('Pearson Correlation Matrix',fontsize=14, fontweight='bold')\n",
    "\n",
    "sns.heatmap(data_new.corr(method='spearman'), linewidths=0.25,fmt=\".2f\", cmap=\"Blues\", linecolor='w',annot=True,annot_kws={\"size\":9},mask=mask,cbar_kws={\"shrink\": .9});"
   ]
  },
  {
   "cell_type": "code",
   "execution_count": 68,
   "id": "e8335175",
   "metadata": {},
   "outputs": [
    {
     "data": {
      "text/html": [
       "<div>\n",
       "<style scoped>\n",
       "    .dataframe tbody tr th:only-of-type {\n",
       "        vertical-align: middle;\n",
       "    }\n",
       "\n",
       "    .dataframe tbody tr th {\n",
       "        vertical-align: top;\n",
       "    }\n",
       "\n",
       "    .dataframe thead th {\n",
       "        text-align: right;\n",
       "    }\n",
       "</style>\n",
       "<table border=\"1\" class=\"dataframe\">\n",
       "  <thead>\n",
       "    <tr style=\"text-align: right;\">\n",
       "      <th></th>\n",
       "      <th>CUST_ID</th>\n",
       "      <th>BALANCE</th>\n",
       "      <th>BALANCE_FREQUENCY</th>\n",
       "      <th>PURCHASES</th>\n",
       "      <th>ONEOFF_PURCHASES</th>\n",
       "      <th>INSTALLMENTS_PURCHASES</th>\n",
       "      <th>CASH_ADVANCE</th>\n",
       "      <th>PURCHASES_FREQUENCY</th>\n",
       "      <th>ONEOFF_PURCHASES_FREQUENCY</th>\n",
       "      <th>PURCHASES_INSTALLMENTS_FREQUENCY</th>\n",
       "      <th>CASH_ADVANCE_FREQUENCY</th>\n",
       "      <th>CASH_ADVANCE_TRX</th>\n",
       "      <th>PURCHASES_TRX</th>\n",
       "      <th>CREDIT_LIMIT</th>\n",
       "      <th>PAYMENTS</th>\n",
       "      <th>MINIMUM_PAYMENTS</th>\n",
       "      <th>PRC_FULL_PAYMENT</th>\n",
       "      <th>TENURE</th>\n",
       "    </tr>\n",
       "  </thead>\n",
       "  <tbody>\n",
       "    <tr>\n",
       "      <th>0</th>\n",
       "      <td>C10001</td>\n",
       "      <td>40.900749</td>\n",
       "      <td>0.818182</td>\n",
       "      <td>95.40</td>\n",
       "      <td>0.00</td>\n",
       "      <td>95.40</td>\n",
       "      <td>0.000000</td>\n",
       "      <td>0.166667</td>\n",
       "      <td>0.000000</td>\n",
       "      <td>0.083333</td>\n",
       "      <td>0.000000</td>\n",
       "      <td>0.0</td>\n",
       "      <td>2.0</td>\n",
       "      <td>1000.0</td>\n",
       "      <td>201.802084</td>\n",
       "      <td>139.509787</td>\n",
       "      <td>0.000000</td>\n",
       "      <td>12.0</td>\n",
       "    </tr>\n",
       "    <tr>\n",
       "      <th>1</th>\n",
       "      <td>C10002</td>\n",
       "      <td>3202.467416</td>\n",
       "      <td>0.909091</td>\n",
       "      <td>0.00</td>\n",
       "      <td>0.00</td>\n",
       "      <td>0.00</td>\n",
       "      <td>6442.945483</td>\n",
       "      <td>0.000000</td>\n",
       "      <td>0.000000</td>\n",
       "      <td>0.000000</td>\n",
       "      <td>0.250000</td>\n",
       "      <td>4.0</td>\n",
       "      <td>0.0</td>\n",
       "      <td>7000.0</td>\n",
       "      <td>4103.032597</td>\n",
       "      <td>1072.340217</td>\n",
       "      <td>0.222222</td>\n",
       "      <td>12.0</td>\n",
       "    </tr>\n",
       "    <tr>\n",
       "      <th>2</th>\n",
       "      <td>C10003</td>\n",
       "      <td>2495.148862</td>\n",
       "      <td>1.000000</td>\n",
       "      <td>773.17</td>\n",
       "      <td>773.17</td>\n",
       "      <td>0.00</td>\n",
       "      <td>0.000000</td>\n",
       "      <td>1.000000</td>\n",
       "      <td>1.000000</td>\n",
       "      <td>0.000000</td>\n",
       "      <td>0.000000</td>\n",
       "      <td>0.0</td>\n",
       "      <td>12.0</td>\n",
       "      <td>7500.0</td>\n",
       "      <td>622.066742</td>\n",
       "      <td>627.284787</td>\n",
       "      <td>0.000000</td>\n",
       "      <td>12.0</td>\n",
       "    </tr>\n",
       "    <tr>\n",
       "      <th>3</th>\n",
       "      <td>C10004</td>\n",
       "      <td>1666.670542</td>\n",
       "      <td>0.636364</td>\n",
       "      <td>1499.00</td>\n",
       "      <td>1499.00</td>\n",
       "      <td>0.00</td>\n",
       "      <td>205.788017</td>\n",
       "      <td>0.083333</td>\n",
       "      <td>0.083333</td>\n",
       "      <td>0.000000</td>\n",
       "      <td>0.083333</td>\n",
       "      <td>1.0</td>\n",
       "      <td>1.0</td>\n",
       "      <td>7500.0</td>\n",
       "      <td>0.000000</td>\n",
       "      <td>379.829982</td>\n",
       "      <td>0.000000</td>\n",
       "      <td>12.0</td>\n",
       "    </tr>\n",
       "    <tr>\n",
       "      <th>4</th>\n",
       "      <td>C10005</td>\n",
       "      <td>817.714335</td>\n",
       "      <td>1.000000</td>\n",
       "      <td>16.00</td>\n",
       "      <td>16.00</td>\n",
       "      <td>0.00</td>\n",
       "      <td>0.000000</td>\n",
       "      <td>0.083333</td>\n",
       "      <td>0.083333</td>\n",
       "      <td>0.000000</td>\n",
       "      <td>0.000000</td>\n",
       "      <td>0.0</td>\n",
       "      <td>1.0</td>\n",
       "      <td>1200.0</td>\n",
       "      <td>678.334763</td>\n",
       "      <td>244.791237</td>\n",
       "      <td>0.000000</td>\n",
       "      <td>12.0</td>\n",
       "    </tr>\n",
       "    <tr>\n",
       "      <th>...</th>\n",
       "      <td>...</td>\n",
       "      <td>...</td>\n",
       "      <td>...</td>\n",
       "      <td>...</td>\n",
       "      <td>...</td>\n",
       "      <td>...</td>\n",
       "      <td>...</td>\n",
       "      <td>...</td>\n",
       "      <td>...</td>\n",
       "      <td>...</td>\n",
       "      <td>...</td>\n",
       "      <td>...</td>\n",
       "      <td>...</td>\n",
       "      <td>...</td>\n",
       "      <td>...</td>\n",
       "      <td>...</td>\n",
       "      <td>...</td>\n",
       "      <td>...</td>\n",
       "    </tr>\n",
       "    <tr>\n",
       "      <th>8945</th>\n",
       "      <td>C19186</td>\n",
       "      <td>28.493517</td>\n",
       "      <td>1.000000</td>\n",
       "      <td>291.12</td>\n",
       "      <td>0.00</td>\n",
       "      <td>291.12</td>\n",
       "      <td>0.000000</td>\n",
       "      <td>1.000000</td>\n",
       "      <td>0.000000</td>\n",
       "      <td>0.833333</td>\n",
       "      <td>0.000000</td>\n",
       "      <td>0.0</td>\n",
       "      <td>6.0</td>\n",
       "      <td>1000.0</td>\n",
       "      <td>325.594462</td>\n",
       "      <td>48.886365</td>\n",
       "      <td>0.500000</td>\n",
       "      <td>6.0</td>\n",
       "    </tr>\n",
       "    <tr>\n",
       "      <th>8946</th>\n",
       "      <td>C19187</td>\n",
       "      <td>19.183215</td>\n",
       "      <td>1.000000</td>\n",
       "      <td>300.00</td>\n",
       "      <td>0.00</td>\n",
       "      <td>300.00</td>\n",
       "      <td>0.000000</td>\n",
       "      <td>1.000000</td>\n",
       "      <td>0.000000</td>\n",
       "      <td>0.833333</td>\n",
       "      <td>0.000000</td>\n",
       "      <td>0.0</td>\n",
       "      <td>6.0</td>\n",
       "      <td>1000.0</td>\n",
       "      <td>275.861322</td>\n",
       "      <td>156.060050</td>\n",
       "      <td>0.000000</td>\n",
       "      <td>6.0</td>\n",
       "    </tr>\n",
       "    <tr>\n",
       "      <th>8947</th>\n",
       "      <td>C19188</td>\n",
       "      <td>23.398673</td>\n",
       "      <td>0.833333</td>\n",
       "      <td>144.40</td>\n",
       "      <td>0.00</td>\n",
       "      <td>144.40</td>\n",
       "      <td>0.000000</td>\n",
       "      <td>0.833333</td>\n",
       "      <td>0.000000</td>\n",
       "      <td>0.666667</td>\n",
       "      <td>0.000000</td>\n",
       "      <td>0.0</td>\n",
       "      <td>5.0</td>\n",
       "      <td>1000.0</td>\n",
       "      <td>81.270775</td>\n",
       "      <td>82.418369</td>\n",
       "      <td>0.250000</td>\n",
       "      <td>6.0</td>\n",
       "    </tr>\n",
       "    <tr>\n",
       "      <th>8948</th>\n",
       "      <td>C19189</td>\n",
       "      <td>13.457564</td>\n",
       "      <td>0.833333</td>\n",
       "      <td>0.00</td>\n",
       "      <td>0.00</td>\n",
       "      <td>0.00</td>\n",
       "      <td>36.558778</td>\n",
       "      <td>0.000000</td>\n",
       "      <td>0.000000</td>\n",
       "      <td>0.000000</td>\n",
       "      <td>0.166667</td>\n",
       "      <td>2.0</td>\n",
       "      <td>0.0</td>\n",
       "      <td>500.0</td>\n",
       "      <td>52.549959</td>\n",
       "      <td>55.755628</td>\n",
       "      <td>0.250000</td>\n",
       "      <td>6.0</td>\n",
       "    </tr>\n",
       "    <tr>\n",
       "      <th>8949</th>\n",
       "      <td>C19190</td>\n",
       "      <td>372.708075</td>\n",
       "      <td>0.666667</td>\n",
       "      <td>1093.25</td>\n",
       "      <td>1093.25</td>\n",
       "      <td>0.00</td>\n",
       "      <td>127.040008</td>\n",
       "      <td>0.666667</td>\n",
       "      <td>0.666667</td>\n",
       "      <td>0.000000</td>\n",
       "      <td>0.333333</td>\n",
       "      <td>2.0</td>\n",
       "      <td>23.0</td>\n",
       "      <td>1200.0</td>\n",
       "      <td>63.165404</td>\n",
       "      <td>88.288956</td>\n",
       "      <td>0.000000</td>\n",
       "      <td>6.0</td>\n",
       "    </tr>\n",
       "  </tbody>\n",
       "</table>\n",
       "<p>8950 rows × 18 columns</p>\n",
       "</div>"
      ],
      "text/plain": [
       "     CUST_ID      BALANCE  BALANCE_FREQUENCY  PURCHASES  ONEOFF_PURCHASES  INSTALLMENTS_PURCHASES  CASH_ADVANCE  PURCHASES_FREQUENCY  ONEOFF_PURCHASES_FREQUENCY  PURCHASES_INSTALLMENTS_FREQUENCY  CASH_ADVANCE_FREQUENCY  CASH_ADVANCE_TRX  PURCHASES_TRX  CREDIT_LIMIT     PAYMENTS  MINIMUM_PAYMENTS  PRC_FULL_PAYMENT  TENURE\n",
       "0     C10001    40.900749           0.818182      95.40              0.00                   95.40      0.000000             0.166667                    0.000000                          0.083333                0.000000               0.0            2.0        1000.0   201.802084        139.509787          0.000000    12.0\n",
       "1     C10002  3202.467416           0.909091       0.00              0.00                    0.00   6442.945483             0.000000                    0.000000                          0.000000                0.250000               4.0            0.0        7000.0  4103.032597       1072.340217          0.222222    12.0\n",
       "2     C10003  2495.148862           1.000000     773.17            773.17                    0.00      0.000000             1.000000                    1.000000                          0.000000                0.000000               0.0           12.0        7500.0   622.066742        627.284787          0.000000    12.0\n",
       "3     C10004  1666.670542           0.636364    1499.00           1499.00                    0.00    205.788017             0.083333                    0.083333                          0.000000                0.083333               1.0            1.0        7500.0     0.000000        379.829982          0.000000    12.0\n",
       "4     C10005   817.714335           1.000000      16.00             16.00                    0.00      0.000000             0.083333                    0.083333                          0.000000                0.000000               0.0            1.0        1200.0   678.334763        244.791237          0.000000    12.0\n",
       "...      ...          ...                ...        ...               ...                     ...           ...                  ...                         ...                               ...                     ...               ...            ...           ...          ...               ...               ...     ...\n",
       "8945  C19186    28.493517           1.000000     291.12              0.00                  291.12      0.000000             1.000000                    0.000000                          0.833333                0.000000               0.0            6.0        1000.0   325.594462         48.886365          0.500000     6.0\n",
       "8946  C19187    19.183215           1.000000     300.00              0.00                  300.00      0.000000             1.000000                    0.000000                          0.833333                0.000000               0.0            6.0        1000.0   275.861322        156.060050          0.000000     6.0\n",
       "8947  C19188    23.398673           0.833333     144.40              0.00                  144.40      0.000000             0.833333                    0.000000                          0.666667                0.000000               0.0            5.0        1000.0    81.270775         82.418369          0.250000     6.0\n",
       "8948  C19189    13.457564           0.833333       0.00              0.00                    0.00     36.558778             0.000000                    0.000000                          0.000000                0.166667               2.0            0.0         500.0    52.549959         55.755628          0.250000     6.0\n",
       "8949  C19190   372.708075           0.666667    1093.25           1093.25                    0.00    127.040008             0.666667                    0.666667                          0.000000                0.333333               2.0           23.0        1200.0    63.165404         88.288956          0.000000     6.0\n",
       "\n",
       "[8950 rows x 18 columns]"
      ]
     },
     "execution_count": 68,
     "metadata": {},
     "output_type": "execute_result"
    }
   ],
   "source": [
    "data_new"
   ]
  },
  {
   "cell_type": "code",
   "execution_count": null,
   "id": "5bf610d1",
   "metadata": {},
   "outputs": [],
   "source": [
    "#profile = ProfileReport(data_new, title=\"Pandas Profiling Report\", html={'style':{'full_width':True}})"
   ]
  },
  {
   "cell_type": "code",
   "execution_count": null,
   "id": "c1bbcb7e",
   "metadata": {},
   "outputs": [],
   "source": [
    "#profile.to_notebook_iframe()"
   ]
  },
  {
   "cell_type": "markdown",
   "id": "76c87682",
   "metadata": {},
   "source": [
    "## Q & A Business Bank - Credit Card\n",
    "\n",
    "**Quais as vantagens, para o Banco, de parcelar as compras no cartão de crédito?**\n",
    "\n",
    "\n",
    "1. Aumento da fidelidade do cliente, pois é mais provável que os clientes usem o mesmo cartão para compras futuras quando puderem dividir seus pagamentos em parcelas menores e mais gerenciáveis.\n",
    "2. Maior lucratividade, pois o banco pode cobrar juros sobre o saldo não pago e receber taxas adicionais do comerciante pelo processamento dos pagamentos.\n",
    "3. Redução do risco de crédito, pois o cliente tem maior probabilidade de quitar o saldo integralmente se os pagamentos forem parcelados no tempo.\n",
    "4. Aumento das oportunidades de venda cruzada de produtos e serviços adicionais, pois os clientes podem estar mais dispostos a aceitar outras ofertas se já estiverem confortáveis ​​com a estrutura de pagamento parcelado.\n",
    "\n",
    "\n",
    "\n",
    "**Quais são as desvantagens, para o Banco, de parcelar as compras no cartão de crédito?**\n",
    "\n",
    "\n",
    "1. Aumento do risco de inadimplência: Quando o consumidor paga uma compra parcelada, o Banco assume mais risco de inadimplência do consumidor.\n",
    "\n",
    "2. Aumento dos custos administrativos: Permitir que os clientes paguem suas compras em parcelas exige custos administrativos adicionais para o Banco, como o custo de criação e gerenciamento de planos de pagamento.\n",
    "\n",
    "3. Fluxo de caixa reduzido: O pagamento parcelado geralmente significa que o Banco receberá os pagamentos em um período de tempo, reduzindo seu fluxo de caixa e dificultando a gestão da liquidez.\n",
    "\n",
    "4. Risco de taxa de juros: Quando um Banco oferece parcelamento, normalmente cobra juros no balanço. Isso expõe o Banco ao risco de flutuações nas taxas de juros, bem como ao risco de não pagamento do saldo integral por parte do consumidor.\n",
    "\n",
    "\n",
    "**Quais as vantagens, para o Banco, de compras pontuais no cartão de crédito?**\n",
    "\n",
    "\n",
    "1. Aumento da receita: As empresas de cartão de crédito ganham dinheiro com taxas, como as cobradas para processar pagamentos e com juros sobre saldos pendentes. Compras pontuais em um cartão de crédito normalmente resultam em gastos mais altos e aumento de receita para o banco.\n",
    "\n",
    "2. Maior fidelidade do cliente: ao oferecer taxas competitivas e programas de recompensas, os bancos podem incentivar os clientes a usar seus cartões de crédito para compras pontuais. Isso, por sua vez, pode levar a uma maior fidelidade dos clientes, que podem optar por continuar usando o mesmo cartão para compras futuras.\n",
    "\n",
    "3. Risco reduzido: As compras pontuais com cartão de crédito são normalmente menos arriscadas para o banco do que as compras mais frequentes, pois os clientes têm maior probabilidade de pagar seu saldo integral a cada mês. Isso reduz o risco de inadimplência, o que pode resultar em perdas significativas para o banco.\n",
    "\n",
    "\n",
    "**Quais são as desvantagens, para o Banco, de compras pontuais no cartão de crédito?**\n",
    "\n",
    "1. Alto risco de inadimplência: compras pontuais no cartão de crédito podem ser uma proposta de alto risco para o banco, pois os clientes podem não conseguir pagar o saldo total no vencimento da fatura. Isso pode fazer com que o banco sofra uma perda significativa.\n",
    "\n",
    "2. Retornos baixos: Os emissores de cartões de crédito geralmente cobram taxas de juros e taxas mais baixas em compras pontuais do que em saldos acumulados mês a mês. Isso significa que o banco não ganhará tanto dinheiro com compras pontuais feitas com cartão de crédito.\n",
    "\n",
    "3. Aumento do risco de fraude: compras pontuais podem ser o alvo principal dos fraudadores, e os bancos podem sofrer perdas significativas devido a atividades fraudulentas. Para combater isso, os bancos geralmente empregam algoritmos sofisticados de detecção de fraudes, cuja manutenção pode ser cara.\n",
    "\n",
    "\n",
    "**Qual a taxa de pagamento do cartão de crédito en relação ao  do cartão?**\n",
    "\n",
    "O pagamento estimado em relação ao valor total do cartão de crédito normalmente é calculado como uma porcentagem do seu saldo mensal."
   ]
  },
  {
   "cell_type": "markdown",
   "id": "2da86300",
   "metadata": {},
   "source": [
    "- Existe uma grande correlação com a modalidade de compra com a frequencia da compra, ONEOFF_PURCHASES / ONEOFF_PURCHASES_FREQUENCY, INSTALLMENTS_PURCHASES / PURCHASES_INSTALLMENTS_FREQUENCY, CASH_ADVANCE / CASH_ADVANCE_FREQUENCY, \n",
    "\n",
    "- A maioria dos clientes preferem o prazo de 12 meses em comparação com outras opções de prazo. \n",
    "\n",
    "- Ao investigar mais a coluna SALDO, parece que há muitos cartões de crédito com saldo 0. Também é compatível com outros valores de compra 0 na coluna COMPRA. Com base nesses resultados, pode-se supor que alguns usuários estão intencionalmente mantendo o saldo baixo em sua conta para obter um limite de crédito alto, o que afeta o aumento da taxa de utilização de crédito e a pontuação de crédito."
   ]
  },
  {
   "cell_type": "markdown",
   "id": "bf1a8b90",
   "metadata": {},
   "source": [
    "# Data Preparation"
   ]
  },
  {
   "cell_type": "markdown",
   "id": "15bce169",
   "metadata": {},
   "source": [
    "## Dealing with Outliers - Using Isolation Forest"
   ]
  },
  {
   "cell_type": "code",
   "execution_count": null,
   "id": "17dcae6a",
   "metadata": {},
   "outputs": [],
   "source": [
    "data_noutliers = data_new.copy()"
   ]
  },
  {
   "cell_type": "code",
   "execution_count": null,
   "id": "acef2e84",
   "metadata": {},
   "outputs": [],
   "source": [
    "# Arbitrarily assuming 0.01% of the data are possible outliers\n",
    "isfo = IsolationForest(contamination=0.01)#, max_samples = 100, random_state = RANDOM_SEED)\n",
    "isfo.fit(data_noutliers[numerical_features])"
   ]
  },
  {
   "cell_type": "code",
   "execution_count": null,
   "id": "bdb49ea7",
   "metadata": {},
   "outputs": [],
   "source": [
    "data_noutliers['anomaly_score'] =  isfo.decision_function(data_noutliers[numerical_features])\n",
    "data_noutliers['anomaly'] = isfo.predict(data_noutliers[numerical_features])"
   ]
  },
  {
   "cell_type": "code",
   "execution_count": null,
   "id": "fe798b7c",
   "metadata": {},
   "outputs": [],
   "source": [
    "print(\"Number of rows with outliers:\", data_noutliers[data_noutliers['anomaly'] == -1].shape[0])\n",
    "print(\"Number of rows without outliers\", data_noutliers[data_noutliers['anomaly'] == 1].shape[0])\n",
    "print(\"Number of original rows:\", data_new.shape[0])"
   ]
  },
  {
   "cell_type": "code",
   "execution_count": null,
   "id": "dd4bb4b2",
   "metadata": {},
   "outputs": [],
   "source": [
    "data_noutliers['anomaly'].value_counts(normalize=True)"
   ]
  },
  {
   "cell_type": "code",
   "execution_count": null,
   "id": "601e3515",
   "metadata": {},
   "outputs": [],
   "source": [
    "# palette = ['#ff7f0e','#1f77b4']\n",
    "# sns.pairplot(data_noutliers, vars=numerical_features, hue='anomaly', palette=palette)"
   ]
  },
  {
   "cell_type": "code",
   "execution_count": null,
   "id": "0be406f8",
   "metadata": {},
   "outputs": [],
   "source": [
    "data_prep = data_noutliers.loc[data_noutliers['anomaly']==1]"
   ]
  },
  {
   "cell_type": "code",
   "execution_count": null,
   "id": "06944427",
   "metadata": {},
   "outputs": [],
   "source": [
    "data_prep = data_prep.drop(columns=['anomaly','anomaly_score'], axis=1)"
   ]
  },
  {
   "cell_type": "code",
   "execution_count": null,
   "id": "f6bd3750",
   "metadata": {},
   "outputs": [],
   "source": [
    "data_prep"
   ]
  },
  {
   "cell_type": "markdown",
   "id": "3b8a6f83",
   "metadata": {},
   "source": [
    "## Normalization"
   ]
  },
  {
   "cell_type": "code",
   "execution_count": null,
   "id": "78449a7b",
   "metadata": {},
   "outputs": [],
   "source": [
    "#data_prep=data_new.copy() Testing without isolation forest"
   ]
  },
  {
   "cell_type": "code",
   "execution_count": null,
   "id": "0d7e95a2",
   "metadata": {},
   "outputs": [],
   "source": [
    "log_columns = data_prep.skew().sort_values(ascending=False)\n",
    "log_columns = log_columns.loc[log_columns > 0.75]\n",
    "log_columns"
   ]
  },
  {
   "cell_type": "code",
   "execution_count": null,
   "id": "aab6a57b",
   "metadata": {},
   "outputs": [],
   "source": [
    "for col in log_columns.index:\n",
    "    data_prep[col] = np.log1p(data_prep[col])"
   ]
  },
  {
   "cell_type": "code",
   "execution_count": null,
   "id": "3335931d",
   "metadata": {},
   "outputs": [],
   "source": [
    "data_prep[numerical_features].hist(figsize=(18,15), bins='auto');"
   ]
  },
  {
   "cell_type": "markdown",
   "id": "c7e15339",
   "metadata": {},
   "source": [
    "## Standardzation"
   ]
  },
  {
   "cell_type": "code",
   "execution_count": null,
   "id": "49675098",
   "metadata": {},
   "outputs": [],
   "source": [
    "mms = MinMaxScaler()\n",
    "\n",
    "for col in data_prep[numerical_features]:\n",
    "    data_prep[col] = mms.fit_transform(data_prep[[col]]).squeeze()"
   ]
  },
  {
   "cell_type": "code",
   "execution_count": null,
   "id": "7ea3101e",
   "metadata": {},
   "outputs": [],
   "source": [
    "data_prep"
   ]
  },
  {
   "cell_type": "markdown",
   "id": "03debedf",
   "metadata": {},
   "source": [
    "## Dimensionality Reduction - PCA"
   ]
  },
  {
   "cell_type": "code",
   "execution_count": null,
   "id": "7cf8b104",
   "metadata": {},
   "outputs": [],
   "source": [
    "# Checking All components first\n",
    "pca = PCA(n_components=data_prep[numerical_features].shape[1], random_state=RANDOM_SEED)\n",
    "components = pca.fit_transform(data_prep[numerical_features])\n",
    "components.shape"
   ]
  },
  {
   "cell_type": "code",
   "execution_count": null,
   "id": "ceb7e034",
   "metadata": {},
   "outputs": [],
   "source": [
    "nfeatures = range(pca.n_components_)\n",
    "nfeatures"
   ]
  },
  {
   "cell_type": "code",
   "execution_count": null,
   "id": "3d8f65b2",
   "metadata": {},
   "outputs": [],
   "source": [
    "pca.explained_variance_ratio_"
   ]
  },
  {
   "cell_type": "code",
   "execution_count": null,
   "id": "bcb0327e",
   "metadata": {},
   "outputs": [],
   "source": [
    "data_prep[numerical_features].var().sort_values(ascending=False)"
   ]
  },
  {
   "cell_type": "code",
   "execution_count": null,
   "id": "6e5e4f74",
   "metadata": {},
   "outputs": [],
   "source": [
    "plt.figure(figsize=(12,8))\n",
    "plt.suptitle('PCA - Principal Component Analysis', fontsize=14, fontweight='bold')\n",
    "plt.bar(nfeatures, pca.explained_variance_ratio_)\n",
    "plt.plot(nfeatures, pca.explained_variance_ratio_.cumsum(),color='orange', linestyle='--',marker='o' )\n",
    "plt.yticks(np.arange(0,1.05,0.05))\n",
    "plt.xticks(np.arange(0,pca.n_components_,1))\n",
    "plt.show()"
   ]
  },
  {
   "cell_type": "code",
   "execution_count": null,
   "id": "81365ba1",
   "metadata": {},
   "outputs": [],
   "source": [
    "# With 9 components we have 96% of variance explanation\n",
    "pca = PCA(9, random_state=RANDOM_SEED)\n",
    "components = pca.fit_transform(data_prep[numerical_features])"
   ]
  },
  {
   "cell_type": "code",
   "execution_count": null,
   "id": "e78e974b",
   "metadata": {},
   "outputs": [],
   "source": [
    "components.shape"
   ]
  },
  {
   "cell_type": "markdown",
   "id": "02c75178",
   "metadata": {},
   "source": [
    "## Dimensionality Reduction - UMAP"
   ]
  },
  {
   "cell_type": "code",
   "execution_count": null,
   "id": "131b9ef4",
   "metadata": {},
   "outputs": [],
   "source": [
    "clusters = data_prep.copy()"
   ]
  },
  {
   "cell_type": "code",
   "execution_count": null,
   "id": "5d01e20c",
   "metadata": {},
   "outputs": [],
   "source": [
    "# Dimensionality Reduction(to 2D) using technique UMAP \n",
    "umap = UMAP(random_state=RANDOM_SEED)\n",
    "umap_embedding = umap.fit_transform(components)\n",
    "\n",
    "# X,y axis representation for UMAP\n",
    "clusters['umap_x'] = umap_embedding[:,0]\n",
    "clusters['umap_y'] = umap_embedding[:,1]"
   ]
  },
  {
   "cell_type": "code",
   "execution_count": null,
   "id": "46725988",
   "metadata": {},
   "outputs": [],
   "source": [
    "plt.figure(figsize=(7,4))\n",
    "plt.title('UMAP', fontsize='14',fontweight='bold')\n",
    "sns.scatterplot(data=clusters, x='umap_x', y='umap_y');"
   ]
  },
  {
   "cell_type": "markdown",
   "id": "e01b247c",
   "metadata": {},
   "source": [
    "## Dimensionality Reduction - t-SNE"
   ]
  },
  {
   "cell_type": "code",
   "execution_count": null,
   "id": "59561573",
   "metadata": {},
   "outputs": [],
   "source": [
    "# Dimensionality Reduction(to 2D) using technique TSNE\n",
    "tsne = TSNE(n_components=2, init='pca', learning_rate='auto', n_jobs=-1, random_state=RANDOM_SEED)\n",
    "tsne_embedding = tsne.fit_transform(components)\n",
    "\n",
    "# X,y axis representation using TSNE\n",
    "clusters['tsne_x'] = tsne_embedding[:,0]\n",
    "clusters['tsne_y'] = tsne_embedding[:,1]"
   ]
  },
  {
   "cell_type": "code",
   "execution_count": null,
   "id": "962acdf4",
   "metadata": {},
   "outputs": [],
   "source": [
    "plt.figure(figsize=(7,4))\n",
    "plt.title('t-SNE', fontsize='14',fontweight='bold')\n",
    "sns.scatterplot(data=clusters, x='tsne_x', y='tsne_y');"
   ]
  },
  {
   "cell_type": "markdown",
   "id": "7799e972",
   "metadata": {},
   "source": [
    "## Plotting Settings"
   ]
  },
  {
   "cell_type": "code",
   "execution_count": null,
   "id": "394d9f5b",
   "metadata": {},
   "outputs": [],
   "source": [
    "# Setting 2D plot parameters for Plotly\n",
    "temp = dict(layout=go.Layout(font=dict(family=\"Franklin Gothic\", size=12)))\n",
    "\n",
    "def plot_graph2D(x,y, cluster, title):    \n",
    "    name=cluster.name\n",
    "    #data=data.sort_values(by=cluster.name, ascending=True)\n",
    "    cluster=cluster.astype(str)\n",
    "    \n",
    "    fig = px.scatter(#data, \n",
    "                     x=x, \n",
    "                     y=y, \n",
    "                     color=cluster, \n",
    "                     color_discrete_sequence=px.colors.qualitative.Prism\n",
    "                    )\n",
    "\n",
    "    fig.update_traces(marker=dict(size=11, \n",
    "                              opacity=0.75, \n",
    "                              line=dict(width=1, color='#F7F7F7')))\n",
    "\n",
    "    fig.update_layout(template=temp, \n",
    "                  title=title, \n",
    "                  width=700, \n",
    "                  legend_title='Clusters',                  \n",
    "                  xaxis=dict(title='x', showline=True, zeroline=False), \n",
    "                  yaxis=dict(title='y',showline=True, zeroline=False))\n",
    "    \n",
    "    \n",
    "    fig.show()"
   ]
  },
  {
   "cell_type": "markdown",
   "id": "ea9c3431",
   "metadata": {},
   "source": [
    "## Evaluating Metrics"
   ]
  },
  {
   "cell_type": "markdown",
   "id": "58a123ab",
   "metadata": {},
   "source": [
    "**Davies-Bouldin Score** - É uma medida da compactação de clusters em um conjunto de dados. Ele avalia a similaridade média entre clusters e é usado para medir a qualidade de um algoritmo de agrupamento. O índice leva em consideração a similaridade intra-cluster e a separação inter-cluster, e varia entre 0 (agrupamento perfeito) e infinito (agrupamento ruim). Quanto menor a pontuação, melhor o agrupamento. O índice Davies-Bouldin é comumente usado em algoritmos de aprendizado de máquina para determinar o número ideal de clusters em um conjunto de dados.\n",
    "\n",
    "$$ DB = \\frac{1}{R}\\sum_{i=1}^{n}\\max_{1 \\leq j \\leq n, j \\neq i}\\left (\\frac{s_i + s_j}{d_{ij}}\\right )$$\n",
    "\n",
    "onde:\n",
    "\n",
    "$s_i$ é a distância média dos pontos no cluster $i$ ao seu centróide\n",
    "\n",
    "$d_{ij}$ é a distância entre os centróides dos clusters \n",
    "\n",
    "$i$, $j$ e $R$ são o número de clusters."
   ]
  },
  {
   "cell_type": "markdown",
   "id": "bdbe067e",
   "metadata": {},
   "source": [
    "**Silhouette Score** - O Silhouette Score é uma métrica usada para medir o quão próximo cada ponto em um cluster está dos pontos em outros clusters. Pode variar de -1 (indicando que o ponto está muito distante de outros clusters) a 1 (indicando que o ponto está muito próximo de outros clusters). É calculado tomando a média do coeficiente de silhueta para cada ponto.\n",
    "\n",
    "$$s(i) = \\frac{b(i) - a(i)}{\\max\\{a(i), b(i)\\}}$$\n",
    "\n",
    "onde:\n",
    "\n",
    "$a(i) = \\frac{1}{|C_i| - 1} \\sum_{j \\in C_i, j \\neq i} d(i, j)$\n",
    "\n",
    "$b(i) = \\min_{k \\in C, k \\neq C_i} \\left\\{\\frac{1}{|C_k|} \\sum_{j \\in C_k} d(i, j)\\right\\}$\n",
    "\n",
    "$C_i$ is the set of data points in cluster $i$\n",
    "\n",
    "$d(i, j)$ is the distance between data points $i$ and $j$"
   ]
  },
  {
   "cell_type": "markdown",
   "id": "d1595c9c",
   "metadata": {},
   "source": [
    "## KMEANS"
   ]
  },
  {
   "cell_type": "code",
   "execution_count": null,
   "id": "a924c6ba",
   "metadata": {},
   "outputs": [],
   "source": [
    "# Finding best K param to Kmeans, using WCSS and Silhouette Score as metrics\n",
    "kmeans_scores_list = []\n",
    "\n",
    "for k in range(2,10):\n",
    "    tunning_kmeans = KMeans(n_clusters=k, random_state=RANDOM_SEED)# init=\"k-means++\",\n",
    "    # We need to test which space (PCA, UMAP, t-SNE) performs best according to WCSS and Silhouette Score metrics\n",
    "    # component, umap_embedding, tsne_embedding\n",
    "    # Thus, the space embedding that presented the best results was the UMAP.\n",
    "    tunning_kmeans_labels = tunning_kmeans.fit_predict(umap_embedding)\n",
    "    \n",
    "    ss = silhouette_score(umap_embedding, tunning_kmeans_labels, metric='euclidean')\n",
    "    \n",
    "    dbs = davies_bouldin_score(umap_embedding, tunning_kmeans_labels)\n",
    "    \n",
    "    kmeans_scores_list.append(pd.Series({'Clusters': k,\n",
    "                                    'WCSS': tunning_kmeans.inertia_,\n",
    "                                    'SS': ss,\n",
    "                                    'Davies Bouldin Score': dbs}))"
   ]
  },
  {
   "cell_type": "code",
   "execution_count": null,
   "id": "0e819193",
   "metadata": {},
   "outputs": [],
   "source": [
    "kmeans_scores_table = (pd.concat(kmeans_scores_list, axis=1).T[['Clusters','WCSS','SS','Davies Bouldin Score']].set_index('Clusters'))\n",
    "kmeans_scores_table"
   ]
  },
  {
   "cell_type": "code",
   "execution_count": null,
   "id": "de92c0e2",
   "metadata": {},
   "outputs": [],
   "source": [
    "plt.figure(figsize=(10,5))\n",
    "elbow = KElbowVisualizer(tunning_kmeans, k=(2,12), timings = False)\n",
    "elbow.fit(umap_embedding) #, timings = False\n",
    "elbow.show();"
   ]
  },
  {
   "cell_type": "code",
   "execution_count": null,
   "id": "e0925266",
   "metadata": {},
   "outputs": [],
   "source": [
    "plt.figure(figsize=(10,5))\n",
    "ss = KElbowVisualizer(tunning_kmeans, k=(2,12), metric = 'silhouette', timings = False)\n",
    "ss.fit(umap_embedding)\n",
    "ss.show();"
   ]
  },
  {
   "cell_type": "code",
   "execution_count": null,
   "id": "ea87254d",
   "metadata": {},
   "outputs": [],
   "source": [
    "plt.figure(figsize=(10,5))\n",
    "plt.suptitle('Davies Bouldin Score for KMeans Clustering', fontsize=12)\n",
    "sns.lineplot(x=kmeans_scores_table.index, y=kmeans_scores_table['Davies Bouldin Score'], marker='o')\n",
    "plt.xlabel('K');\n",
    "plt.ylabel('Davies Bouldin Score');"
   ]
  },
  {
   "cell_type": "code",
   "execution_count": null,
   "id": "e7fe41f1",
   "metadata": {},
   "outputs": [],
   "source": [
    "# Using the best k find to our purpouse\n",
    "k=7\n",
    "kmeans = KMeans( n_clusters=k, random_state=RANDOM_SEED)#init = \"k-means++\",\n",
    "kmeans_labels = kmeans.fit_predict(umap_embedding)\n",
    "clusters['KMeans'] = kmeans_labels"
   ]
  },
  {
   "cell_type": "code",
   "execution_count": null,
   "id": "2fa02364",
   "metadata": {},
   "outputs": [],
   "source": [
    "plt.figure(figsize=(10,5))\n",
    "visualizer = SilhouetteVisualizer(kmeans, colors='yellowbrick')\n",
    "visualizer.fit(umap_embedding)\n",
    "visualizer.finalize()"
   ]
  },
  {
   "cell_type": "code",
   "execution_count": null,
   "id": "fe738592",
   "metadata": {},
   "outputs": [],
   "source": [
    "clusters.sort_values(by='KMeans')\n",
    "plot_graph2D(clusters['umap_x'],\n",
    "             clusters['umap_y'],\n",
    "             clusters['KMeans'],\n",
    "             title='KMeans Cluster using UMAP')"
   ]
  },
  {
   "cell_type": "code",
   "execution_count": null,
   "id": "7de40629",
   "metadata": {},
   "outputs": [],
   "source": [
    "# plot_graph2D(clusters['tsne_x'],\n",
    "#              clusters['tsne_y'],\n",
    "#              clusters['KMeans-Cluster'],\n",
    "#              title='KMeans Cluster using t-SNE')"
   ]
  },
  {
   "cell_type": "markdown",
   "id": "84d0edc4",
   "metadata": {},
   "source": [
    "## Hierarchical Clustering"
   ]
  },
  {
   "cell_type": "code",
   "execution_count": null,
   "id": "10cc9086",
   "metadata": {},
   "outputs": [],
   "source": [
    "hc_scores_list = []\n",
    "\n",
    "for k in range(2,11):\n",
    "    tunning_hc = hierarchy.linkage(umap_embedding, 'ward', metric='euclidean')# init=\"k-means++\",\n",
    "    \n",
    "    # We need to test which space (PCA, UMAP, t-SNE) performs best according to WCSS and Silhouette Score metrics\n",
    "    # component, umap_embedding, tsne_embedding\n",
    "    # Thus, the space embedding that presented the best results was the UMAP.\n",
    "    tunning_hc_labels = hierarchy.fcluster(tunning_hc, k, criterion='maxclust')\n",
    "    \n",
    "    ss = silhouette_score(umap_embedding, tunning_hc_labels, metric='euclidean')\n",
    "    \n",
    "    dbs = davies_bouldin_score(umap_embedding, tunning_hc_labels)\n",
    "    \n",
    "    hc_scores_list.append(pd.Series({'Clusters': k,\n",
    "                                    'SS': ss,\n",
    "                                    'Davies Bouldin Score': dbs}))"
   ]
  },
  {
   "cell_type": "code",
   "execution_count": null,
   "id": "3bf8f9e2",
   "metadata": {},
   "outputs": [],
   "source": [
    "hc_scores_table = (pd.concat(hc_scores_list, axis=1).T[['Clusters','SS','Davies Bouldin Score']].set_index('Clusters'))"
   ]
  },
  {
   "cell_type": "code",
   "execution_count": null,
   "id": "1dc1284f",
   "metadata": {},
   "outputs": [],
   "source": [
    "hc_scores_table"
   ]
  },
  {
   "cell_type": "code",
   "execution_count": null,
   "id": "196cb952",
   "metadata": {},
   "outputs": [],
   "source": [
    "plt.figure(figsize=(10,5))\n",
    "plt.suptitle('Silhouette Score for Hierachical Clustering', fontsize=14, fontweight='bold')\n",
    "sns.lineplot(x=hc_scores_table.index, y=hc_scores_table['SS'], marker='o')\n",
    "plt.xlabel('K');\n",
    "plt.ylabel('Silhouette Score');"
   ]
  },
  {
   "cell_type": "code",
   "execution_count": null,
   "id": "4e1bc1d8",
   "metadata": {},
   "outputs": [],
   "source": [
    "plt.figure(figsize=(10,5))\n",
    "plt.suptitle('Davies Bouldin Score for Hierachical Clustering', fontsize=14, fontweight='bold')\n",
    "sns.lineplot(x=hc_scores_table.index, y=hc_scores_table['Davies Bouldin Score'], marker='o')\n",
    "plt.xlabel('K');\n",
    "plt.ylabel('Davies Bouldin Score');"
   ]
  },
  {
   "cell_type": "code",
   "execution_count": null,
   "id": "ad972cf3",
   "metadata": {},
   "outputs": [],
   "source": [
    "methods=['complete','ward']\n",
    "\n",
    "for i in methods:\n",
    "    Z = hierarchy.linkage(umap_embedding, method=i, metric='euclidean')\n",
    "    hierarchy.set_link_color_palette(['#5d69b1', '#52bca3', '#99c945'])\n",
    "\n",
    "    fig, ax = plt.subplots(figsize=(14,6))\n",
    "    den=hierarchy.dendrogram(Z, \n",
    "                             p=7, \n",
    "                             truncate_mode='lastp',\n",
    "                             show_leaf_counts=True, \n",
    "                             ax=ax,\n",
    "                             above_threshold_color='grey') #orientation='top', #color_threshold=100,\n",
    "    \n",
    "    #ax.axhline(10, color='grey', linestyle='--')\n",
    "    ax.set_title(f'\\nDendrogram of Hierarchical Clustering with {i.capitalize()} Linkage', fontweight='bold', fontsize='14')\n",
    "    ax.set_xlabel('\\nNumber of Customers in Cluster Leaf Nodes')\n",
    "    ax.set_ylabel('Cluster Distance')\n",
    "    ax.spines['right'].set_visible(False), ax.spines['top'].set_visible(False), ax.spines['bottom'].set_visible(False)\n",
    "    fig.show()"
   ]
  },
  {
   "cell_type": "code",
   "execution_count": null,
   "id": "d7549850",
   "metadata": {},
   "outputs": [],
   "source": [
    "k=7\n",
    "#hc = AgglomerativeClustering(k, affinity='euclidean', linkage='complete', compute_full_tree=False)\n",
    "hc = hierarchy.linkage(umap_embedding, 'ward', metric='euclidean')\n",
    "hc_labels = hierarchy.fcluster(hc, k, criterion='maxclust')\n",
    "clusters[\"HierarchicalCluster\"]=hc_labels"
   ]
  },
  {
   "cell_type": "code",
   "execution_count": null,
   "id": "da74f1f2",
   "metadata": {},
   "outputs": [],
   "source": [
    "plot_graph2D(clusters['umap_x'],\n",
    "             clusters['umap_y'],\n",
    "             clusters['HierarchicalCluster'],\n",
    "             title='Hierarchical Cluster using UMAP')"
   ]
  },
  {
   "cell_type": "markdown",
   "id": "94c6029e",
   "metadata": {},
   "source": [
    "## Gausian Mistured Model"
   ]
  },
  {
   "cell_type": "code",
   "execution_count": null,
   "id": "54109dda",
   "metadata": {},
   "outputs": [],
   "source": [
    "# Finding best K param to GMM, AIC and BIC as metrics\n",
    "gmm_scores_list = []\n",
    "\n",
    "for k in range(2,13):\n",
    "    tunning_gmm = GaussianMixture(n_components=k, random_state=RANDOM_SEED)#n_init=5, init_params='k-means++', \n",
    "    tunning_gmm_labels = tunning_gmm.fit_predict(umap_embedding)\n",
    "    \n",
    "    \n",
    "    ss = silhouette_score(umap_embedding, tunning_gmm_labels, metric='euclidean')\n",
    "    dbs = davies_bouldin_score(umap_embedding, tunning_gmm_labels)\n",
    "    \n",
    "    gmm_scores_list.append(pd.Series({'Clusters': k,\n",
    "                                    'AIC': tunning_gmm.aic(umap_embedding),\n",
    "                                    'BIC': tunning_gmm.bic(umap_embedding),\n",
    "                                    'SS': ss,\n",
    "                                    'Davies Bouldin Score': dbs}))\n",
    "    \n",
    "gmm_scores_table = (pd.concat(gmm_scores_list, axis=1).T[['Clusters','AIC','BIC','SS','Davies Bouldin Score']]).set_index('Clusters')"
   ]
  },
  {
   "cell_type": "code",
   "execution_count": null,
   "id": "23bd409f",
   "metadata": {},
   "outputs": [],
   "source": [
    "gmm_scores_table"
   ]
  },
  {
   "cell_type": "code",
   "execution_count": null,
   "id": "82c8df7f",
   "metadata": {},
   "outputs": [],
   "source": [
    "plt.figure(figsize=(10,5))\n",
    "plt.suptitle('GMM Performace Metrics', fontsize=14, fontweight='bold')\n",
    "sns.lineplot(x=gmm_scores_table.index, y=gmm_scores_table.AIC, label='AIC')\n",
    "sns.lineplot(x=gmm_scores_table.index, y=gmm_scores_table.BIC, label='BIC')\n",
    "plt.ylabel('AIC and BIC values')\n",
    "plt.xlabel('Number of Clusters')\n",
    "plt.legend(loc='best');"
   ]
  },
  {
   "cell_type": "code",
   "execution_count": null,
   "id": "454fcbf2",
   "metadata": {},
   "outputs": [],
   "source": [
    "plt.figure(figsize=(10,5))\n",
    "plt.suptitle('Davies Bouldin Score for GMM Clustering', fontsize=14, fontweight='bold')\n",
    "sns.lineplot(x=gmm_scores_table.index, y=gmm_scores_table['SS'], marker='o')\n",
    "plt.xlabel('K');\n",
    "plt.ylabel('Silhouette Score');"
   ]
  },
  {
   "cell_type": "code",
   "execution_count": null,
   "id": "4f2d96c3",
   "metadata": {},
   "outputs": [],
   "source": [
    "plt.figure(figsize=(10,5))\n",
    "plt.suptitle('Davies Bouldin Score for KMeans Clustering', fontsize=14, fontweight='bold')\n",
    "sns.lineplot(x=gmm_scores_table.index, y=gmm_scores_table['Davies Bouldin Score'], marker='o')\n",
    "plt.xlabel('K');\n",
    "plt.ylabel('Davies Bouldin Score');"
   ]
  },
  {
   "cell_type": "code",
   "execution_count": null,
   "id": "cf79c561",
   "metadata": {},
   "outputs": [],
   "source": [
    "k=7\n",
    "gmm = GaussianMixture(n_components=k, random_state=RANDOM_SEED)#n_init=5, init_params='k-means++',\n",
    "gmm_labels = gmm.fit_predict(umap_embedding)\n",
    "clusters['GMM'] = gmm_labels"
   ]
  },
  {
   "cell_type": "code",
   "execution_count": null,
   "id": "6f482a8f",
   "metadata": {},
   "outputs": [],
   "source": [
    "#clusters_results.sort_values(by='GMM')\n",
    "plot_graph2D(clusters['umap_x'],\n",
    "             clusters['umap_y'],\n",
    "             clusters['GMM'],\n",
    "             title='GMM Cluster using UMAP')"
   ]
  },
  {
   "cell_type": "markdown",
   "id": "8f8323d9",
   "metadata": {},
   "source": [
    "## Best Model"
   ]
  },
  {
   "cell_type": "code",
   "execution_count": null,
   "id": "65500766",
   "metadata": {},
   "outputs": [],
   "source": [
    "cluster_results = clusters.copy()"
   ]
  },
  {
   "cell_type": "code",
   "execution_count": null,
   "id": "3703bdb6",
   "metadata": {},
   "outputs": [],
   "source": [
    "cluster_results = pd.concat([clusters[['GMM']], data_new],axis=1)\n",
    "cluster_results"
   ]
  },
  {
   "cell_type": "code",
   "execution_count": null,
   "id": "a58b31b0",
   "metadata": {},
   "outputs": [],
   "source": [
    "aux1=cluster_results.groupby('GMM').mean().reset_index()\n",
    "aux2=cluster_results[['PURCHASES_FREQUENCY','GMM']].groupby('GMM').count().rename(columns={'PURCHASES_FREQUENCY': 'COUNT'}).reset_index()\n",
    "cluster_results_mean = aux2.merge(aux1, how='left', on='GMM').set_index('GMM').T"
   ]
  },
  {
   "cell_type": "code",
   "execution_count": null,
   "id": "1a0e61b8",
   "metadata": {},
   "outputs": [],
   "source": [
    "cm = sns.light_palette(\"#A2A2A2\", as_cmap = True)\n",
    "\n",
    "cluster_results_mean=cluster_results_mean.style.background_gradient(cmap = cm, axis = 1)\\\n",
    "    .set_precision(2)\\\n",
    "    .highlight_min(axis = 1, color = \"#FF6347\")\\\n",
    "    .highlight_max(axis = 1, color = \"#2F4F4F\")\n",
    "\n",
    "cluster_results_mean"
   ]
  },
  {
   "cell_type": "markdown",
   "id": "e6f82e6d",
   "metadata": {},
   "source": [
    "<blockquote style=\"color: #000000;\">\n",
    "\n",
    "**Cluster 00 - Cannot Lose Them** \n",
    "- São clientes que <mark>utilizam o cartão de crédito com baixa frequencia</mark>\n",
    "- São clientes que utilizam a modalidade <mark>\"ONE OFF\"</mark> com <mark>alta frequencia</mark>\n",
    "- São clientes que utilizam a modalidade <mark>\"Parcelado\"</mark> com <mark>baixissima frequencia</mark>\n",
    "- São clientes que <mark>solicitam adiantamento</mark> de crédito com <mark>baixissima frequencia</mark> \n",
    "- São clientes que possuem <mark>moderada taxa de pagamento</mark>  com relação ao valor integral do cartão de crédito\n",
    "\n",
    "*Rating: 3.5*\n",
    "\n",
    "***\n",
    "\n",
    "**Cluster 01 - Hinernating** \n",
    "- São clientes que <mark>utilizam o cartão de crédito com baixissima frequencia</mark>\n",
    "- São clientes que utilizam a modalidade <mark>\"ONE OFF\"</mark> com <mark>baixissima frequencia</mark>\n",
    "- São clientes que utilizam a modalidade <mark>\"Parcelado\"</mark> com <mark>baixissima frequencia</mark>\n",
    "- São clientes que <mark>solicitam adiantamento</mark> de crédito com <mark>alta frequencia</mark>\n",
    "- São clientes que possuem <mark>baixa taxa de pagamento</mark> com relação ao valor integral do cartão de crédito\n",
    "\n",
    "Rating: 1.0\n",
    "\n",
    "***\n",
    "\n",
    "**Cluster 02 - Champions** \n",
    "- São clientes que <mark>utilizam o cartão de crédito com alta frequencia</mark>\n",
    "- São clientes que utilizam a modalidade <mark>\"ONE OFF\"</mark> com <mark>baixissima frequencia</mark>\n",
    "- São clientes que utilizam a modalidade <mark>\"Parcelado\"</mark> com <mark>altissima frequencia</mark> \n",
    "- São clientes que <mark>solicitam adiantamento</mark> de crédito com <mark>baixissima frequencia</mark>\n",
    "- São clientes que possuem <mark>alta taxa de pagamento</mark> com relação ao valor integral do cartão de crédito\n",
    "\n",
    "Rating: 5.0\n",
    "\n",
    "***\n",
    "\n",
    "**Cluster 03 - Trouble Costumer** \n",
    "- São clientes que <mark>utilizam o cartão de crédito com baixa frequencia</mark>\n",
    "- São clientes que utilizam a modalidade <mark>\"ONE OFF\"</mark> com <mark>moderada frequencia</mark>\n",
    "- São clientes que utilizam a modalidade <mark>\"Parcelado\"</mark> com <mark>baixissima frequencia</mark>\n",
    "- São clientes que <mark>solicitam adiantamento</mark> de crédito com <mark>alta frequencia</mark>\n",
    "- São clientes que possuem <mark>baixa taxa de pagamento</mark> com relação ao valor integral do cartão de crédito\n",
    "\n",
    "Rating: 2.5\n",
    "\n",
    "***\n",
    "\n",
    "**Cluster 04 - Loyal Customers** \n",
    "- São clientes que <mark>utilizam o cartão de crédito com altissima frequencia</mark>\n",
    "- São clientes que utilizam a modalidade <mark>\"ONE OFF\"</mark> com <mark>alta frequencia</mark>\n",
    "- São clientes que utilizam a modalidade <mark>\"Parcelado\"</mark> com <mark>moderada frequencia</mark>\n",
    "- São clientes que <mark>solicitam adiantamento</mark> de crédito com <mark>baixissima frequencia</mark>\n",
    "- São clientes que possuem <mark>alta taxa de pagamento</mark> com relação ao valor integral do cartão de crédito\n",
    "\n",
    "Rating: 4.5\n",
    "    \n",
    "***\n",
    "\n",
    "**Cluster 05 - Need Attention** \n",
    "- São clientes que <mark>utilizam o cartão de crédito com moderada frequencia</mark>\n",
    "- São clientes que utilizam a modalidade <mark>\"ONE OFF\"</mark> com <mark>baixissima frequencia</mark>\n",
    "- São clientes que utilizam a modalidade <mark>\"Parcelado\"</mark> com <mark>alta frequencia</mark>\n",
    "- São clientes que <mark>solicitam adiantamento</mark> de crédito com <mark>alta frequencia</mark>\n",
    "- São clientes que possuem <mark>baixa taxa de pagamento</mark> com relação ao valor integral do cartão de crédito\n",
    "\n",
    "Rating: 3.0\n",
    "\n",
    "***\n",
    "\n",
    "**Cluster 06**\n",
    "- São clientes que <mark>utilizam o cartão de crédito com altissima frequencia</mark>\n",
    "- São clientes que utilizam a modalidade <mark>\"ONE OFF\"</mark> com <mark>alta frequencia</mark>\n",
    "- São clientes que utilizam a modalidade <mark>\"Parcelado\"</mark> com <mark>moderada frequencia</mark>\n",
    "- São clientes que <mark>solicitam adiantamento</mark> de crédito com <mark>alta frequencia</mark>\n",
    "- São clientes que possuem <mark>baixa taxa de pagamento</mark> com relação ao valor integral do cartão de crédito\n",
    "\n",
    "\n",
    "Rating: 3.0\n",
    "    \n",
    "</blockquote>    "
   ]
  },
  {
   "cell_type": "code",
   "execution_count": null,
   "id": "8fda63d1",
   "metadata": {},
   "outputs": [],
   "source": []
  }
 ],
 "metadata": {
  "hide_input": false,
  "kernelspec": {
   "display_name": "Python 3 (ipykernel)",
   "language": "python",
   "name": "python3"
  },
  "language_info": {
   "codemirror_mode": {
    "name": "ipython",
    "version": 3
   },
   "file_extension": ".py",
   "mimetype": "text/x-python",
   "name": "python",
   "nbconvert_exporter": "python",
   "pygments_lexer": "ipython3",
   "version": "3.9.7"
  },
  "latex_envs": {
   "LaTeX_envs_menu_present": true,
   "autoclose": false,
   "autocomplete": true,
   "bibliofile": "biblio.bib",
   "cite_by": "apalike",
   "current_citInitial": 1,
   "eqLabelWithNumbers": true,
   "eqNumInitial": 1,
   "hotkeys": {
    "equation": "Ctrl-E",
    "itemize": "Ctrl-I"
   },
   "labels_anchors": false,
   "latex_user_defs": false,
   "report_style_numbering": false,
   "user_envs_cfg": false
  }
 },
 "nbformat": 4,
 "nbformat_minor": 5
}
